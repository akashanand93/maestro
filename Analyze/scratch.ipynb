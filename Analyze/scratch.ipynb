{
 "cells": [
  {
   "cell_type": "code",
   "execution_count": 1,
   "metadata": {},
   "outputs": [],
   "source": [
    "import sys\n",
    "sys.path.append(\"/Users/akashanand/repo/maestro\")\n",
    "%load_ext autoreload\n",
    "%autoreload 2"
   ]
  },
  {
   "cell_type": "code",
   "execution_count": 27,
   "metadata": {},
   "outputs": [],
   "source": [
    "import pandas as pd\n",
    "import tqdm\n",
    "import matplotlib.pyplot as plt\n",
    "import math"
   ]
  },
  {
   "cell_type": "code",
   "execution_count": 3,
   "metadata": {},
   "outputs": [],
   "source": [
    "from maestro.connector.kite_connector import KiteConnector\n",
    "from maestro.historical.fetch_historical_data import HistoricalDataFetcher, Interval, get_today, get_date_before_today\n",
    "from maestro.instruments.kite_instruments import TradingInstruments, ExchangeType"
   ]
  },
  {
   "cell_type": "code",
   "execution_count": 4,
   "metadata": {},
   "outputs": [
    {
     "name": "stdout",
     "output_type": "stream",
     "text": [
      "Goto this url and get the request token from the redirect link: https://kite.zerodha.com/connect/login?api_key=9kxpk63gv7k76agn&v=3\n"
     ]
    }
   ],
   "source": [
    "connector = KiteConnector()"
   ]
  },
  {
   "cell_type": "code",
   "execution_count": 5,
   "metadata": {},
   "outputs": [],
   "source": [
    "instruments = TradingInstruments(connector, live=False)"
   ]
  },
  {
   "cell_type": "code",
   "execution_count": 13,
   "metadata": {},
   "outputs": [
    {
     "name": "stdout",
     "output_type": "stream",
     "text": [
      "5234\n"
     ]
    }
   ],
   "source": [
    "nse_instruments = instruments.get_instruments_by_exchange(ExchangeType.NSE)\n",
    "print(len(nse_instruments))"
   ]
  },
  {
   "cell_type": "code",
   "execution_count": 7,
   "metadata": {},
   "outputs": [],
   "source": [
    "history_fetcher = HistoricalDataFetcher(connector)"
   ]
  },
  {
   "cell_type": "code",
   "execution_count": null,
   "metadata": {},
   "outputs": [],
   "source": [
    "out_dict = {}"
   ]
  },
  {
   "cell_type": "code",
   "execution_count": 18,
   "metadata": {},
   "outputs": [
    {
     "name": "stderr",
     "output_type": "stream",
     "text": [
      "100%|██████████| 5234/5234 [26:29<00:00,  3.29it/s]  \n"
     ]
    }
   ],
   "source": [
    "to_date = get_today()\n",
    "from_date = get_date_before_today(60)\n",
    "for instrument in tqdm.tqdm(nse_instruments):\n",
    "    token = instrument[\"instrument_token\"]\n",
    "    if token in out_dict:\n",
    "        continue\n",
    "    prices = history_fetcher.fetch_historical_data(token, from_date, to_date, Interval.MINUTE)\n",
    "    out_dict[token] = prices\n"
   ]
  },
  {
   "cell_type": "code",
   "execution_count": 19,
   "metadata": {},
   "outputs": [],
   "source": [
    "import pickle\n",
    "with open(\"/Users/akashanand/repo/maestro/data/data.pickle\", \"wb\") as f:\n",
    "    pickle.dump(out_dict, f)"
   ]
  },
  {
   "cell_type": "code",
   "execution_count": 30,
   "metadata": {},
   "outputs": [
    {
     "name": "stderr",
     "output_type": "stream",
     "text": [
      "100%|██████████| 5234/5234 [00:31<00:00, 164.01it/s] \n"
     ]
    }
   ],
   "source": [
    "# Instrument wise data with money flow\n",
    "instrument_wise_cash_flow = []\n",
    "for instrument in tqdm.tqdm(out_dict.keys()):\n",
    "    temp = []\n",
    "    for row in out_dict[instrument]:\n",
    "        temp.append(row[\"close\"] * row[\"volume\"])\n",
    "    if len(temp) > 0:\n",
    "        flow = sum(temp)/len(temp)\n",
    "    else:\n",
    "        flow = 0\n",
    "    instrument_wise_cash_flow.append({\"instrument\": instrument, \"flow\": flow})\n",
    "\n"
   ]
  },
  {
   "cell_type": "code",
   "execution_count": 35,
   "metadata": {},
   "outputs": [
    {
     "name": "stdout",
     "output_type": "stream",
     "text": [
      "All instruments:  5234\n",
      "Positive instruments:  2709\n"
     ]
    }
   ],
   "source": [
    "# Sort by cash flow\n",
    "instrument_wise_cash_sorted = sorted(instrument_wise_cash_flow, key=lambda x: x[\"flow\"], reverse=True)\n",
    "print(\"All instruments: \", len(instrument_wise_cash_sorted))\n",
    "instrument_wise_cash_sorted = [x for x in instrument_wise_cash_sorted if x[\"flow\"] > 0]\n",
    "print(\"Positive instruments: \", len(instrument_wise_cash_sorted))\n",
    "# Sample 500 random instruments\n",
    "import random\n",
    "random.seed(42)\n",
    "instrument_wise_cash_sorted = sorted(random.sample(instrument_wise_cash_sorted, 500), key=lambda x: x[\"flow\"], reverse=True)\n"
   ]
  },
  {
   "cell_type": "code",
   "execution_count": 37,
   "metadata": {},
   "outputs": [],
   "source": [
    "small_dict = {}\n",
    "for instrument in instrument_wise_cash_sorted:\n",
    "    small_dict[instrument[\"instrument\"]] = out_dict[instrument[\"instrument\"]]\n",
    "\n",
    "import pickle\n",
    "with open(\"/Users/akashanand/repo/maestro/data/data_small.pickle\", \"wb\") as f:\n",
    "    pickle.dump(small_dict, f)"
   ]
  },
  {
   "cell_type": "code",
   "execution_count": 36,
   "metadata": {},
   "outputs": [
    {
     "data": {
      "text/plain": [
       "[<matplotlib.lines.Line2D at 0x6e1fc92e0>]"
      ]
     },
     "execution_count": 36,
     "metadata": {},
     "output_type": "execute_result"
    },
    {
     "data": {
      "image/png": "[encoded data removed]",
      "text/plain": [
       "<Figure size 640x480 with 1 Axes>"
      ]
     },
     "metadata": {},
     "output_type": "display_data"
    }
   ],
   "source": [
    "# Plot the cash flow in log scale\n",
    "plt.plot([math.log(x[\"flow\"]) for x in instrument_wise_cash_sorted if x[\"flow\"] > 0])"
   ]
  },
  {
   "cell_type": "code",
   "execution_count": 69,
   "metadata": {},
   "outputs": [
    {
     "data": {
      "text/html": [
       "<div>\n",
       "<style scoped>\n",
       "    .dataframe tbody tr th:only-of-type {\n",
       "        vertical-align: middle;\n",
       "    }\n",
       "\n",
       "    .dataframe tbody tr th {\n",
       "        vertical-align: top;\n",
       "    }\n",
       "\n",
       "    .dataframe thead th {\n",
       "        text-align: right;\n",
       "    }\n",
       "</style>\n",
       "<table border=\"1\" class=\"dataframe\">\n",
       "  <thead>\n",
       "    <tr style=\"text-align: right;\">\n",
       "      <th></th>\n",
       "      <th>instrument_token</th>\n",
       "      <th>exchange_token</th>\n",
       "      <th>tradingsymbol</th>\n",
       "      <th>name</th>\n",
       "      <th>last_price</th>\n",
       "      <th>expiry</th>\n",
       "      <th>strike</th>\n",
       "      <th>tick_size</th>\n",
       "      <th>lot_size</th>\n",
       "      <th>instrument_type</th>\n",
       "      <th>segment</th>\n",
       "      <th>exchange</th>\n",
       "    </tr>\n",
       "  </thead>\n",
       "  <tbody>\n",
       "    <tr>\n",
       "      <th>0</th>\n",
       "      <td>3376129</td>\n",
       "      <td>13188</td>\n",
       "      <td>RCOM-BE</td>\n",
       "      <td>RELIANCE COMMUNICATIONS L</td>\n",
       "      <td>0.0</td>\n",
       "      <td></td>\n",
       "      <td>0.0</td>\n",
       "      <td>0.05</td>\n",
       "      <td>1</td>\n",
       "      <td>EQ</td>\n",
       "      <td>NSE</td>\n",
       "      <td>NSE</td>\n",
       "    </tr>\n",
       "    <tr>\n",
       "      <th>1</th>\n",
       "      <td>2470913</td>\n",
       "      <td>9652</td>\n",
       "      <td>RELCHEMQ</td>\n",
       "      <td>RELIANCE CHEMOTEX IND</td>\n",
       "      <td>0.0</td>\n",
       "      <td></td>\n",
       "      <td>0.0</td>\n",
       "      <td>0.05</td>\n",
       "      <td>1</td>\n",
       "      <td>EQ</td>\n",
       "      <td>NSE</td>\n",
       "      <td>NSE</td>\n",
       "    </tr>\n",
       "    <tr>\n",
       "      <th>2</th>\n",
       "      <td>738561</td>\n",
       "      <td>2885</td>\n",
       "      <td>RELIANCE</td>\n",
       "      <td>RELIANCE INDUSTRIES</td>\n",
       "      <td>0.0</td>\n",
       "      <td></td>\n",
       "      <td>0.0</td>\n",
       "      <td>0.05</td>\n",
       "      <td>1</td>\n",
       "      <td>EQ</td>\n",
       "      <td>NSE</td>\n",
       "      <td>NSE</td>\n",
       "    </tr>\n",
       "    <tr>\n",
       "      <th>3</th>\n",
       "      <td>141569</td>\n",
       "      <td>553</td>\n",
       "      <td>RELINFRA</td>\n",
       "      <td>RELIANCE INFRASTRUCTU</td>\n",
       "      <td>0.0</td>\n",
       "      <td></td>\n",
       "      <td>0.0</td>\n",
       "      <td>0.05</td>\n",
       "      <td>1</td>\n",
       "      <td>EQ</td>\n",
       "      <td>NSE</td>\n",
       "      <td>NSE</td>\n",
       "    </tr>\n",
       "    <tr>\n",
       "      <th>4</th>\n",
       "      <td>5563649</td>\n",
       "      <td>21733</td>\n",
       "      <td>RHFL</td>\n",
       "      <td>RELIANCE HOME FINANCE</td>\n",
       "      <td>0.0</td>\n",
       "      <td></td>\n",
       "      <td>0.0</td>\n",
       "      <td>0.05</td>\n",
       "      <td>1</td>\n",
       "      <td>EQ</td>\n",
       "      <td>NSE</td>\n",
       "      <td>NSE</td>\n",
       "    </tr>\n",
       "    <tr>\n",
       "      <th>5</th>\n",
       "      <td>745473</td>\n",
       "      <td>2912</td>\n",
       "      <td>RIIL</td>\n",
       "      <td>RELIANCE INDUSTRIAL INFRA</td>\n",
       "      <td>0.0</td>\n",
       "      <td></td>\n",
       "      <td>0.0</td>\n",
       "      <td>0.05</td>\n",
       "      <td>1</td>\n",
       "      <td>EQ</td>\n",
       "      <td>NSE</td>\n",
       "      <td>NSE</td>\n",
       "    </tr>\n",
       "    <tr>\n",
       "      <th>6</th>\n",
       "      <td>3906305</td>\n",
       "      <td>15259</td>\n",
       "      <td>RPOWER</td>\n",
       "      <td>RELIANCE POWER.</td>\n",
       "      <td>0.0</td>\n",
       "      <td></td>\n",
       "      <td>0.0</td>\n",
       "      <td>0.05</td>\n",
       "      <td>1</td>\n",
       "      <td>EQ</td>\n",
       "      <td>NSE</td>\n",
       "      <td>NSE</td>\n",
       "    </tr>\n",
       "  </tbody>\n",
       "</table>\n",
       "</div>"
      ],
      "text/plain": [
       "   instrument_token exchange_token tradingsymbol                       name  \\\n",
       "0           3376129          13188       RCOM-BE  RELIANCE COMMUNICATIONS L   \n",
       "1           2470913           9652      RELCHEMQ      RELIANCE CHEMOTEX IND   \n",
       "2            738561           2885      RELIANCE        RELIANCE INDUSTRIES   \n",
       "3            141569            553      RELINFRA      RELIANCE INFRASTRUCTU   \n",
       "4           5563649          21733          RHFL      RELIANCE HOME FINANCE   \n",
       "5            745473           2912          RIIL  RELIANCE INDUSTRIAL INFRA   \n",
       "6           3906305          15259        RPOWER            RELIANCE POWER.   \n",
       "\n",
       "   last_price expiry  strike  tick_size  lot_size instrument_type segment  \\\n",
       "0         0.0            0.0       0.05         1              EQ     NSE   \n",
       "1         0.0            0.0       0.05         1              EQ     NSE   \n",
       "2         0.0            0.0       0.05         1              EQ     NSE   \n",
       "3         0.0            0.0       0.05         1              EQ     NSE   \n",
       "4         0.0            0.0       0.05         1              EQ     NSE   \n",
       "5         0.0            0.0       0.05         1              EQ     NSE   \n",
       "6         0.0            0.0       0.05         1              EQ     NSE   \n",
       "\n",
       "  exchange  \n",
       "0      NSE  \n",
       "1      NSE  \n",
       "2      NSE  \n",
       "3      NSE  \n",
       "4      NSE  \n",
       "5      NSE  \n",
       "6      NSE  "
      ]
     },
     "execution_count": 69,
     "metadata": {},
     "output_type": "execute_result"
    }
   ],
   "source": [
    "import pandas as pd\n",
    "pd_rel = pd.DataFrame(rel)\n",
    "pd_rel"
   ]
  },
  {
   "cell_type": "code",
   "execution_count": 61,
   "metadata": {},
   "outputs": [
    {
     "data": {
      "text/plain": [
       "NFO    301\n",
       "BSE     18\n",
       "NSE      9\n",
       "Name: exchange, dtype: int64"
      ]
     },
     "execution_count": 61,
     "metadata": {},
     "output_type": "execute_result"
    }
   ],
   "source": [
    "pd_nse[\"exchange\"].value_counts()"
   ]
  },
  {
   "cell_type": "code",
   "execution_count": 56,
   "metadata": {},
   "outputs": [
    {
     "data": {
      "text/plain": [
       "BSE        11147\n",
       "INDICES       55\n",
       "Name: segment, dtype: int64"
      ]
     },
     "execution_count": 56,
     "metadata": {},
     "output_type": "execute_result"
    }
   ],
   "source": [
    "pd_nse[\"segment\"].value_counts()"
   ]
  },
  {
   "cell_type": "code",
   "execution_count": 57,
   "metadata": {},
   "outputs": [
    {
     "data": {
      "text/plain": [
       "EQ    11202\n",
       "Name: instrument_type, dtype: int64"
      ]
     },
     "execution_count": 57,
     "metadata": {},
     "output_type": "execute_result"
    }
   ],
   "source": [
    "pd_nse[\"instrument_type\"].value_counts()"
   ]
  },
  {
   "cell_type": "code",
   "execution_count": 58,
   "metadata": {},
   "outputs": [
    {
     "data": {
      "text/html": [
       "<div>\n",
       "<style scoped>\n",
       "    .dataframe tbody tr th:only-of-type {\n",
       "        vertical-align: middle;\n",
       "    }\n",
       "\n",
       "    .dataframe tbody tr th {\n",
       "        vertical-align: top;\n",
       "    }\n",
       "\n",
       "    .dataframe thead th {\n",
       "        text-align: right;\n",
       "    }\n",
       "</style>\n",
       "<table border=\"1\" class=\"dataframe\">\n",
       "  <thead>\n",
       "    <tr style=\"text-align: right;\">\n",
       "      <th></th>\n",
       "      <th>instrument_token</th>\n",
       "      <th>exchange_token</th>\n",
       "      <th>tradingsymbol</th>\n",
       "      <th>name</th>\n",
       "      <th>last_price</th>\n",
       "      <th>expiry</th>\n",
       "      <th>strike</th>\n",
       "      <th>tick_size</th>\n",
       "      <th>lot_size</th>\n",
       "      <th>instrument_type</th>\n",
       "      <th>segment</th>\n",
       "      <th>exchange</th>\n",
       "    </tr>\n",
       "  </thead>\n",
       "  <tbody>\n",
       "    <tr>\n",
       "      <th>0</th>\n",
       "      <td>245876996</td>\n",
       "      <td>960457</td>\n",
       "      <td>0001AIPL24</td>\n",
       "      <td></td>\n",
       "      <td>0.0</td>\n",
       "      <td></td>\n",
       "      <td>0.0</td>\n",
       "      <td>0.01</td>\n",
       "      <td>10</td>\n",
       "      <td>EQ</td>\n",
       "      <td>BSE</td>\n",
       "      <td>BSE</td>\n",
       "    </tr>\n",
       "    <tr>\n",
       "      <th>1</th>\n",
       "      <td>245304324</td>\n",
       "      <td>958220</td>\n",
       "      <td>001CSSL25</td>\n",
       "      <td></td>\n",
       "      <td>0.0</td>\n",
       "      <td></td>\n",
       "      <td>0.0</td>\n",
       "      <td>0.01</td>\n",
       "      <td>1</td>\n",
       "      <td>EQ</td>\n",
       "      <td>BSE</td>\n",
       "      <td>BSE</td>\n",
       "    </tr>\n",
       "    <tr>\n",
       "      <th>2</th>\n",
       "      <td>249407492</td>\n",
       "      <td>974248</td>\n",
       "      <td>001HCCL26</td>\n",
       "      <td></td>\n",
       "      <td>0.0</td>\n",
       "      <td></td>\n",
       "      <td>0.0</td>\n",
       "      <td>0.01</td>\n",
       "      <td>1</td>\n",
       "      <td>EQ</td>\n",
       "      <td>BSE</td>\n",
       "      <td>BSE</td>\n",
       "    </tr>\n",
       "    <tr>\n",
       "      <th>3</th>\n",
       "      <td>249406980</td>\n",
       "      <td>974246</td>\n",
       "      <td>001HCCL29</td>\n",
       "      <td></td>\n",
       "      <td>0.0</td>\n",
       "      <td></td>\n",
       "      <td>0.0</td>\n",
       "      <td>0.01</td>\n",
       "      <td>1</td>\n",
       "      <td>EQ</td>\n",
       "      <td>BSE</td>\n",
       "      <td>BSE</td>\n",
       "    </tr>\n",
       "    <tr>\n",
       "      <th>4</th>\n",
       "      <td>249407236</td>\n",
       "      <td>974247</td>\n",
       "      <td>001HCCL29A</td>\n",
       "      <td></td>\n",
       "      <td>0.0</td>\n",
       "      <td></td>\n",
       "      <td>0.0</td>\n",
       "      <td>0.01</td>\n",
       "      <td>1</td>\n",
       "      <td>EQ</td>\n",
       "      <td>BSE</td>\n",
       "      <td>BSE</td>\n",
       "    </tr>\n",
       "  </tbody>\n",
       "</table>\n",
       "</div>"
      ],
      "text/plain": [
       "   instrument_token exchange_token tradingsymbol name  last_price expiry  \\\n",
       "0         245876996         960457    0001AIPL24              0.0          \n",
       "1         245304324         958220     001CSSL25              0.0          \n",
       "2         249407492         974248     001HCCL26              0.0          \n",
       "3         249406980         974246     001HCCL29              0.0          \n",
       "4         249407236         974247    001HCCL29A              0.0          \n",
       "\n",
       "   strike  tick_size  lot_size instrument_type segment exchange  \n",
       "0     0.0       0.01        10              EQ     BSE      BSE  \n",
       "1     0.0       0.01         1              EQ     BSE      BSE  \n",
       "2     0.0       0.01         1              EQ     BSE      BSE  \n",
       "3     0.0       0.01         1              EQ     BSE      BSE  \n",
       "4     0.0       0.01         1              EQ     BSE      BSE  "
      ]
     },
     "execution_count": 58,
     "metadata": {},
     "output_type": "execute_result"
    }
   ],
   "source": [
    "pd_nse.head()"
   ]
  },
  {
   "cell_type": "code",
   "execution_count": null,
   "metadata": {},
   "outputs": [],
   "source": []
  }
 ],
 "metadata": {
  "kernelspec": {
   "display_name": "trading",
   "language": "python",
   "name": "python3"
  },
  "language_info": {
   "codemirror_mode": {
    "name": "ipython",
    "version": 3
   },
   "file_extension": ".py",
   "mimetype": "text/x-python",
   "name": "python",
   "nbconvert_exporter": "python",
   "pygments_lexer": "ipython3",
   "version": "3.8.16"
  },
  "orig_nbformat": 4
 },
 "nbformat": 4,
 "nbformat_minor": 2
}
