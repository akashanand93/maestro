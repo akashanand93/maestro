{
 "cells": [
  {
   "cell_type": "code",
   "execution_count": null,
   "id": "621fae69",
   "metadata": {},
   "outputs": [],
   "source": [
    "import os\n",
    "import sys\n",
    "import json\n",
    "import numpy as np\n",
    "import pandas as pd\n",
    "from datetime import datetime\n",
    "from collections import Counter\n",
    "import matplotlib.pyplot as plt"
   ]
  },
  {
   "cell_type": "code",
   "execution_count": null,
   "id": "07757a42",
   "metadata": {},
   "outputs": [],
   "source": [
    "config = '../configs/config_shiva.json'\n",
    "config = json.load(open(config))"
   ]
  },
  {
   "cell_type": "code",
   "execution_count": null,
   "id": "77395853",
   "metadata": {},
   "outputs": [],
   "source": [
    "data_dir = config['data_dir']\n",
    "raw_dir = \"{}/{}\".format(data_dir, config['raw_data_dir'])\n",
    "csv_dir = \"{}/{}\".format(data_dir, config['raw_data_csv'])\n",
    "ltsf = \"{}/ltsf\".format(data_dir)"
   ]
  },
  {
   "cell_type": "code",
   "execution_count": null,
   "id": "2ddb5f95",
   "metadata": {},
   "outputs": [],
   "source": [
    "file = os.listdir(ltsf)[0]\n",
    "file"
   ]
  },
  {
   "cell_type": "code",
   "execution_count": null,
   "id": "9a08af75",
   "metadata": {},
   "outputs": [],
   "source": [
    "df = pd.read_csv(\"{}/{}\".format(csv_dir, file))"
   ]
  },
  {
   "cell_type": "code",
   "execution_count": null,
   "id": "f68579a4",
   "metadata": {},
   "outputs": [],
   "source": [
    "df.shape"
   ]
  },
  {
   "cell_type": "code",
   "execution_count": null,
   "id": "040b4ec0",
   "metadata": {},
   "outputs": [],
   "source": [
    "df.head()"
   ]
  },
  {
   "cell_type": "code",
   "execution_count": null,
   "id": "e127e556",
   "metadata": {
    "scrolled": true
   },
   "outputs": [],
   "source": [
    "for col in df.columns:\n",
    "    if col != 'date':\n",
    "        plt.figure(figsize=(11, 3)) ; plt.plot(df[col]) ; plt.show()"
   ]
  },
  {
   "cell_type": "markdown",
   "id": "54f6edc4",
   "metadata": {},
   "source": [
    "(batch_size * num_stocks * seq_len)"
   ]
  },
  {
   "cell_type": "code",
   "execution_count": null,
   "id": "f7d1e9b7",
   "metadata": {},
   "outputs": [],
   "source": [
    "16 * 1500 * 360"
   ]
  },
  {
   "cell_type": "code",
   "execution_count": null,
   "id": "2d41a557",
   "metadata": {},
   "outputs": [],
   "source": [
    "1200/1400/700"
   ]
  }
 ],
 "metadata": {
  "kernelspec": {
   "display_name": "Python 3 (ipykernel)",
   "language": "python",
   "name": "python3"
  },
  "language_info": {
   "codemirror_mode": {
    "name": "ipython",
    "version": 3
   },
   "file_extension": ".py",
   "mimetype": "text/x-python",
   "name": "python",
   "nbconvert_exporter": "python",
   "pygments_lexer": "ipython3",
   "version": "3.9.6"
  }
 },
 "nbformat": 4,
 "nbformat_minor": 5
}
