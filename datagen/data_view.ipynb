{
 "cells": [
  {
   "cell_type": "code",
   "execution_count": null,
   "id": "621fae69",
   "metadata": {},
   "outputs": [],
   "source": [
    "import os\n",
    "import sys\n",
    "import json\n",
    "import numpy as np\n",
    "import pandas as pd\n",
    "from datetime import datetime\n",
    "from collections import Counter\n",
    "import matplotlib.pyplot as plt"
   ]
  },
  {
   "cell_type": "code",
   "execution_count": null,
   "id": "07757a42",
   "metadata": {},
   "outputs": [],
   "source": [
    "config = '../configs/config_shiva.json'\n",
    "config = json.load(open(config))"
   ]
  },
  {
   "cell_type": "code",
   "execution_count": null,
   "id": "77395853",
   "metadata": {},
   "outputs": [],
   "source": [
    "data_dir = config['data_dir']\n",
    "raw_dir = \"{}/{}\".format(data_dir, config['raw_data_dir'])\n",
    "csv_dir = \"{}/{}\".format(data_dir, config['raw_data_csv'])\n",
    "ltsf = \"{}/ltsf\".format(data_dir)"
   ]
  },
  {
   "cell_type": "code",
   "execution_count": null,
   "id": "2ba7862e",
   "metadata": {},
   "outputs": [],
   "source": [
    "instrument_file = \"{}/{}\".format(data_dir, config['stock_meta'])\n",
    "instrumen_config = json.load(open(instrument_file, \"r\"))\n",
    "instrumen_config = {i['instrument_token']: i for i in instrumen_config}"
   ]
  },
  {
   "cell_type": "code",
   "execution_count": null,
   "id": "2ddb5f95",
   "metadata": {},
   "outputs": [],
   "source": [
    "file = os.listdir(ltsf)[0]\n",
    "file"
   ]
  },
  {
   "cell_type": "code",
   "execution_count": null,
   "id": "39e3272d",
   "metadata": {},
   "outputs": [],
   "source": [
    "df = pd.read_csv(\"{}/{}\".format(csv_dir, file))"
   ]
  },
  {
   "cell_type": "code",
   "execution_count": null,
   "id": "efb1b991",
   "metadata": {},
   "outputs": [],
   "source": [
    "df.head()"
   ]
  },
  {
   "cell_type": "code",
   "execution_count": null,
   "id": "feaaeb57",
   "metadata": {},
   "outputs": [],
   "source": [
    "cols = list(set([i.split('_')[0] for i in df.columns if i != 'date']))"
   ]
  },
  {
   "cell_type": "code",
   "execution_count": null,
   "id": "8e1f4e7d",
   "metadata": {},
   "outputs": [],
   "source": [
    "for c in cols:\n",
    "    try:\n",
    "        if instrumen_config[int(c)]['name'].startswith('PC'):\n",
    "            print(c, instrumen_config[int(c)]['name'])\n",
    "    except:\n",
    "        continue"
   ]
  },
  {
   "cell_type": "code",
   "execution_count": null,
   "id": "4611d167",
   "metadata": {},
   "outputs": [],
   "source": [
    "col_volume_map = {}\n",
    "for col in cols:   \n",
    "    if col == 'date':\n",
    "        continue    \n",
    "    vol_col = '{}_volume'.format(col)\n",
    "    avg_col = '{}_avg'.format(col)\n",
    "    col_volume_map[col] = df[vol_col].mean() * df[avg_col].mean()\n",
    "col_volume_map = {k: v for k, v in sorted(col_volume_map.items(), key=lambda item: item[1], reverse=True)}"
   ]
  },
  {
   "cell_type": "code",
   "execution_count": null,
   "id": "0c8e39c1",
   "metadata": {},
   "outputs": [],
   "source": [
    "date_format = \"%Y-%m-%d %H:%M:%S\"\n",
    "days = [\"Mon\", \"Tue\", \"Wed\", \"Thu\", \"Fri\", \"Sat\", \"Sun\"]\n",
    "date = df['date'].to_list()\n",
    "day_list = []\n",
    "for d in date:\n",
    "    datetime_obj = datetime.strptime(d, date_format)\n",
    "    day_of_week = days[datetime_obj.weekday()]\n",
    "    day_list.append(day_of_week)"
   ]
  },
  {
   "cell_type": "code",
   "execution_count": null,
   "id": "667d4a74",
   "metadata": {
    "scrolled": true
   },
   "outputs": [],
   "source": [
    "for col in col_volume_map:\n",
    "         \n",
    "    fig, ax = plt.subplots()\n",
    "    fig.set_size_inches(18, 4)\n",
    "        \n",
    "    avg_col = '{}_avg'.format(col)\n",
    "    vol_col = '{}_volume'.format(col)\n",
    "    volume = df[vol_col].mean()\n",
    "    \n",
    "    try:\n",
    "        name = instrumen_config[int(col)]['name']\n",
    "    except:\n",
    "        name = 'unknown'\n",
    "    title = \"Value Traded Mean: {}, Volume mean: {}, Name: {}\".format(int(col_volume_map[col]), int(volume), name)\n",
    "    \n",
    "    ax.plot(df[avg_col])# ; ax.title(title)# ; plt.show()\n",
    "    ax.set_title(title, fontsize=18)\n",
    "    \n",
    "    for i in range(1, len(day_list)):\n",
    "        if day_list[i-1] != day_list[i]:\n",
    "            ax.axvline(x=i, color='k', linestyle='--', linewidth=1)\n",
    "            ax.text(i, 0.9, day_list[i], transform=ax.get_xaxis_transform(), rotation=90, size=11)\n",
    "    plt.show()        "
   ]
  },
  {
   "cell_type": "code",
   "execution_count": null,
   "id": "a0805281",
   "metadata": {},
   "outputs": [],
   "source": []
  },
  {
   "cell_type": "code",
   "execution_count": null,
   "id": "5425c05c",
   "metadata": {},
   "outputs": [],
   "source": [
    "df['2831361_volume'].describe()"
   ]
  },
  {
   "cell_type": "code",
   "execution_count": null,
   "id": "69c486e4",
   "metadata": {},
   "outputs": [],
   "source": [
    "df.head()"
   ]
  },
  {
   "cell_type": "code",
   "execution_count": null,
   "id": "ae94befa",
   "metadata": {},
   "outputs": [],
   "source": []
  }
 ],
 "metadata": {
  "kernelspec": {
   "display_name": "Python 3 (ipykernel)",
   "language": "python",
   "name": "python3"
  },
  "language_info": {
   "codemirror_mode": {
    "name": "ipython",
    "version": 3
   },
   "file_extension": ".py",
   "mimetype": "text/x-python",
   "name": "python",
   "nbconvert_exporter": "python",
   "pygments_lexer": "ipython3",
   "version": "3.9.6"
  }
 },
 "nbformat": 4,
 "nbformat_minor": 5
}
