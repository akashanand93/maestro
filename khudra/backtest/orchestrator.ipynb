{
 "cells": [
  {
   "cell_type": "code",
   "execution_count": null,
   "metadata": {},
   "outputs": [],
   "source": [
    "% load_ext autoreload\n",
    "% autoreload 2"
   ]
  },
  {
   "cell_type": "code",
   "execution_count": 2,
   "metadata": {},
   "outputs": [],
   "source": [
    "from maestro.infra.factory.factory import get_backtest_orchestrator\n",
    "from maestro.kite.connector.kite_connector import KiteConnector\n",
    "import json"
   ]
  },
  {
   "cell_type": "code",
   "execution_count": 3,
   "metadata": {},
   "outputs": [],
   "source": [
    "config_path = \"/Users/akashanand/repo/marketmaestro/maestro/maestro/infra/config/infra_config.json\"\n",
    "config = json.load(open(config_path, 'r'))"
   ]
  },
  {
   "cell_type": "code",
   "execution_count": 5,
   "metadata": {},
   "outputs": [
    {
     "name": "stdout",
     "output_type": "stream",
     "text": [
      "Goto this url and get the request token from the redirect link: https://kite.zerodha.com/connect/login?api_key=9kxpk63gv7k76agn&v=3\n"
     ]
    }
   ],
   "source": [
    "connector = KiteConnector()"
   ]
  },
  {
   "cell_type": "code",
   "execution_count": 6,
   "metadata": {},
   "outputs": [
    {
     "ename": "TypeError",
     "evalue": "__init__() got an unexpected keyword argument 'start_date'",
     "output_type": "error",
     "traceback": [
      "\u001b[0;31m---------------------------------------------------------------------------\u001b[0m",
      "\u001b[0;31mTypeError\u001b[0m                                 Traceback (most recent call last)",
      "Cell \u001b[0;32mIn[6], line 1\u001b[0m\n\u001b[0;32m----> 1\u001b[0m orchestrator \u001b[39m=\u001b[39m get_backtest_orchestrator(config, connector)\n",
      "File \u001b[0;32m~/repo/marketmaestro/maestro/maestro/infra/factory/factory.py:10\u001b[0m, in \u001b[0;36mget_backtest_orchestrator\u001b[0;34m(config, connector)\u001b[0m\n\u001b[1;32m      8\u001b[0m \u001b[39mdef\u001b[39;00m \u001b[39mget_backtest_orchestrator\u001b[39m(config, connector):\n\u001b[1;32m      9\u001b[0m     initial_cash \u001b[39m=\u001b[39m config[\u001b[39m'\u001b[39m\u001b[39minitial_cash\u001b[39m\u001b[39m'\u001b[39m]\n\u001b[0;32m---> 10\u001b[0m     data_feed \u001b[39m=\u001b[39m get_data_feed(config[\u001b[39m'\u001b[39;49m\u001b[39mdata_feed\u001b[39;49m\u001b[39m'\u001b[39;49m], connector\u001b[39m=\u001b[39;49mconnector)\n\u001b[1;32m     11\u001b[0m     commission \u001b[39m=\u001b[39m get_commission(config[\u001b[39m'\u001b[39m\u001b[39mcommission\u001b[39m\u001b[39m'\u001b[39m])\n\u001b[1;32m     12\u001b[0m     startegy \u001b[39m=\u001b[39m get_strategy(config[\u001b[39m'\u001b[39m\u001b[39mstrategy\u001b[39m\u001b[39m'\u001b[39m])\n",
      "File \u001b[0;32m~/repo/marketmaestro/maestro/maestro/infra/factory/factory.py:29\u001b[0m, in \u001b[0;36mget_data_feed\u001b[0;34m(config, connector)\u001b[0m\n\u001b[1;32m     27\u001b[0m     \u001b[39mif\u001b[39;00m end_date \u001b[39m==\u001b[39m \u001b[39m\"\u001b[39m\u001b[39m\"\u001b[39m:\n\u001b[1;32m     28\u001b[0m         end_date \u001b[39m=\u001b[39m \u001b[39mNone\u001b[39;00m\n\u001b[0;32m---> 29\u001b[0m     \u001b[39mreturn\u001b[39;00m ZerodhaHistoricalData(kite_connector \u001b[39m=\u001b[39;49m connector,\n\u001b[1;32m     30\u001b[0m                                  instrument_token \u001b[39m=\u001b[39;49m instrument_token,\n\u001b[1;32m     31\u001b[0m                                  start_date \u001b[39m=\u001b[39;49m start_date,\n\u001b[1;32m     32\u001b[0m                                  end_date \u001b[39m=\u001b[39;49m end_date)\n\u001b[1;32m     33\u001b[0m \u001b[39melif\u001b[39;00m data_feed_type \u001b[39m==\u001b[39m \u001b[39m'\u001b[39m\u001b[39mcsv_file\u001b[39m\u001b[39m'\u001b[39m:\n\u001b[1;32m     34\u001b[0m     \u001b[39mreturn\u001b[39;00m CustomDataFeed(config[\u001b[39m'\u001b[39m\u001b[39mfile_path\u001b[39m\u001b[39m'\u001b[39m], config[\u001b[39m'\u001b[39m\u001b[39mname\u001b[39m\u001b[39m'\u001b[39m])\n",
      "File \u001b[0;32m~/miniconda3/envs/trading/lib/python3.8/site-packages/backtrader/metabase.py:88\u001b[0m, in \u001b[0;36mMetaBase.__call__\u001b[0;34m(cls, *args, **kwargs)\u001b[0m\n\u001b[1;32m     86\u001b[0m _obj, args, kwargs \u001b[39m=\u001b[39m \u001b[39mcls\u001b[39m\u001b[39m.\u001b[39mdonew(\u001b[39m*\u001b[39margs, \u001b[39m*\u001b[39m\u001b[39m*\u001b[39mkwargs)\n\u001b[1;32m     87\u001b[0m _obj, args, kwargs \u001b[39m=\u001b[39m \u001b[39mcls\u001b[39m\u001b[39m.\u001b[39mdopreinit(_obj, \u001b[39m*\u001b[39margs, \u001b[39m*\u001b[39m\u001b[39m*\u001b[39mkwargs)\n\u001b[0;32m---> 88\u001b[0m _obj, args, kwargs \u001b[39m=\u001b[39m \u001b[39mcls\u001b[39;49m\u001b[39m.\u001b[39;49mdoinit(_obj, \u001b[39m*\u001b[39;49margs, \u001b[39m*\u001b[39;49m\u001b[39m*\u001b[39;49mkwargs)\n\u001b[1;32m     89\u001b[0m _obj, args, kwargs \u001b[39m=\u001b[39m \u001b[39mcls\u001b[39m\u001b[39m.\u001b[39mdopostinit(_obj, \u001b[39m*\u001b[39margs, \u001b[39m*\u001b[39m\u001b[39m*\u001b[39mkwargs)\n\u001b[1;32m     90\u001b[0m \u001b[39mreturn\u001b[39;00m _obj\n",
      "File \u001b[0;32m~/miniconda3/envs/trading/lib/python3.8/site-packages/backtrader/metabase.py:78\u001b[0m, in \u001b[0;36mMetaBase.doinit\u001b[0;34m(cls, _obj, *args, **kwargs)\u001b[0m\n\u001b[1;32m     77\u001b[0m \u001b[39mdef\u001b[39;00m \u001b[39mdoinit\u001b[39m(\u001b[39mcls\u001b[39m, _obj, \u001b[39m*\u001b[39margs, \u001b[39m*\u001b[39m\u001b[39m*\u001b[39mkwargs):\n\u001b[0;32m---> 78\u001b[0m     _obj\u001b[39m.\u001b[39;49m\u001b[39m__init__\u001b[39;49m(\u001b[39m*\u001b[39;49margs, \u001b[39m*\u001b[39;49m\u001b[39m*\u001b[39;49mkwargs)\n\u001b[1;32m     79\u001b[0m     \u001b[39mreturn\u001b[39;00m _obj, args, kwargs\n",
      "\u001b[0;31mTypeError\u001b[0m: __init__() got an unexpected keyword argument 'start_date'"
     ]
    }
   ],
   "source": [
    "orchestrator = get_backtest_orchestrator(config, connector)"
   ]
  },
  {
   "cell_type": "code",
   "execution_count": null,
   "metadata": {},
   "outputs": [],
   "source": []
  }
 ],
 "metadata": {
  "kernelspec": {
   "display_name": "trading",
   "language": "python",
   "name": "python3"
  },
  "language_info": {
   "codemirror_mode": {
    "name": "ipython",
    "version": 3
   },
   "file_extension": ".py",
   "mimetype": "text/x-python",
   "name": "python",
   "nbconvert_exporter": "python",
   "pygments_lexer": "ipython3",
   "version": "3.8.16"
  },
  "orig_nbformat": 4
 },
 "nbformat": 4,
 "nbformat_minor": 2
}
