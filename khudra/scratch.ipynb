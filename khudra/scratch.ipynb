{
 "cells": [
  {
   "cell_type": "code",
   "execution_count": 1,
   "metadata": {},
   "outputs": [],
   "source": [
    "%load_ext autoreload\n",
    "%autoreload 2"
   ]
  },
  {
   "cell_type": "code",
   "execution_count": 2,
   "metadata": {},
   "outputs": [
    {
     "data": {
      "text/plain": [
       "True"
      ]
     },
     "execution_count": 2,
     "metadata": {},
     "output_type": "execute_result"
    }
   ],
   "source": [
    "from dotenv import load_dotenv\n",
    "\n",
    "load_dotenv()"
   ]
  },
  {
   "cell_type": "code",
   "execution_count": 9,
   "metadata": {},
   "outputs": [
    {
     "name": "stdout",
     "output_type": "stream",
     "text": [
      "9kxpk63gv7k76agn\n",
      "zkgtjepzhmwrmpd9rmhgecoeuntxfk54\n"
     ]
    }
   ],
   "source": [
    "import os\n",
    "print(os.environ.get('KITE_API_KEY'))\n",
    "print(os.environ.get('KITE_SECRET_KEY'))"
   ]
  },
  {
   "cell_type": "code",
   "execution_count": 3,
   "metadata": {},
   "outputs": [],
   "source": [
    "import pandas as pd\n",
    "import tqdm\n",
    "import matplotlib.pyplot as plt\n",
    "import math"
   ]
  },
  {
   "cell_type": "code",
   "execution_count": 4,
   "metadata": {},
   "outputs": [],
   "source": [
    "from maestro.kite.connector.kite_connector import KiteConnector\n",
    "from maestro.kite.historical.fetch_historical_data import HistoricalDataFetcher, Interval, get_today, get_date_before_today\n",
    "from maestro.kite.instruments.kite_instruments import TradingInstruments, ExchangeType"
   ]
  },
  {
   "cell_type": "code",
   "execution_count": 10,
   "metadata": {},
   "outputs": [
    {
     "name": "stdout",
     "output_type": "stream",
     "text": [
      "Goto this url and get the request token from the redirect link: https://kite.zerodha.com/connect/login?api_key=9kxpk63gv7k76agn&v=3\n"
     ]
    }
   ],
   "source": [
    "connector = KiteConnector()"
   ]
  },
  {
   "cell_type": "code",
   "execution_count": 11,
   "metadata": {},
   "outputs": [],
   "source": [
    "instruments = TradingInstruments(connector, live=True)"
   ]
  },
  {
   "cell_type": "code",
   "execution_count": 12,
   "metadata": {},
   "outputs": [
    {
     "name": "stdout",
     "output_type": "stream",
     "text": [
      "5414\n"
     ]
    }
   ],
   "source": [
    "nse_instruments = instruments.get_instruments_by_exchange(ExchangeType.NSE)\n",
    "print(len(nse_instruments))"
   ]
  },
  {
   "cell_type": "code",
   "execution_count": null,
   "metadata": {},
   "outputs": [],
   "source": []
  },
  {
   "cell_type": "code",
   "execution_count": 13,
   "metadata": {},
   "outputs": [],
   "source": [
    "history_fetcher = HistoricalDataFetcher(connector)"
   ]
  },
  {
   "cell_type": "code",
   "execution_count": 14,
   "metadata": {},
   "outputs": [],
   "source": [
    "out_dict = {}"
   ]
  },
  {
   "cell_type": "code",
   "execution_count": 26,
   "metadata": {},
   "outputs": [],
   "source": [
    "import datetime\n",
    "from_date = (datetime.date.today() - datetime.timedelta(days=30)).strftime(\"%Y-%m-%d\")\n",
    "to_date = datetime.date.today().strftime(\"%Y-%m-%d\")\n",
    "#for instrument in tqdm.tqdm(nse_instruments):\n",
    "for val in [True]:\n",
    "    #print(instrument)\n",
    "    #token = instrument[\"instrument_token\"]\n",
    "    token = 738561 # for reliance\n",
    "    #if token in out_dict:\n",
    "    #    continue\n",
    "    prices = history_fetcher.fetch_historical_data(token, from_date, to_date, Interval.MINUTE)\n",
    "    #print(token, prices)\n",
    "    #break\n",
    "#     out_dict[token] = prices"
   ]
  },
  {
   "cell_type": "code",
   "execution_count": 27,
   "metadata": {},
   "outputs": [],
   "source": [
    "data = pd.DataFrame(prices)"
   ]
  },
  {
   "cell_type": "code",
   "execution_count": 35,
   "metadata": {},
   "outputs": [
    {
     "data": {
      "text/plain": [
       "738638.15625"
      ]
     },
     "execution_count": 35,
     "metadata": {},
     "output_type": "execute_result"
    }
   ],
   "source": [
    "import backtrader as bt\n",
    "row = data.iloc[0]\n",
    "bt.date2num(row['date'].to_pydatetime())\n",
    "#bt.date2num(row.name.to_pydatetime())"
   ]
  },
  {
   "cell_type": "code",
   "execution_count": null,
   "metadata": {},
   "outputs": [],
   "source": [
    "total_days = 360\n",
    "days_per_file = 30\n",
    "to_date = get_today()\n",
    "\n",
    "for i in range(30, total_days, days_per_file):\n",
    "    \n",
    "    print(i)\n",
    "    from_date = get_date_before_today(i)\n",
    "    name = ('-').join(from_date.split('-')[:-1]).replace('-', '_')[2:]\n",
    "    print(from_date, to_date, name)\n",
    "    to_date = from_date\n"
   ]
  },
  {
   "cell_type": "code",
   "execution_count": null,
   "metadata": {},
   "outputs": [],
   "source": [
    "import pickle\n",
    "with open(\"/Users/akashanand/repo/maestro/data/data.pickle\", \"wb\") as f:\n",
    "    pickle.dump(out_dict, f)"
   ]
  },
  {
   "cell_type": "code",
   "execution_count": null,
   "metadata": {},
   "outputs": [],
   "source": [
    "# Instrument wise data with money flow\n",
    "instrument_wise_cash_flow = []\n",
    "for instrument in tqdm.tqdm(out_dict.keys()):\n",
    "    temp = []\n",
    "    for row in out_dict[instrument]:\n",
    "        temp.append(row[\"close\"] * row[\"volume\"])\n",
    "    if len(temp) > 0:\n",
    "        flow = sum(temp)/len(temp)\n",
    "    else:\n",
    "        flow = 0\n",
    "    instrument_wise_cash_flow.append({\"instrument\": instrument, \"flow\": flow})\n",
    "\n"
   ]
  },
  {
   "cell_type": "code",
   "execution_count": null,
   "metadata": {},
   "outputs": [],
   "source": [
    "# Sort by cash flow\n",
    "instrument_wise_cash_sorted = sorted(instrument_wise_cash_flow, key=lambda x: x[\"flow\"], reverse=True)\n",
    "print(\"All instruments: \", len(instrument_wise_cash_sorted))\n",
    "instrument_wise_cash_sorted = [x for x in instrument_wise_cash_sorted if x[\"flow\"] > 0]\n",
    "print(\"Positive instruments: \", len(instrument_wise_cash_sorted))\n",
    "# Sample 500 random instruments\n",
    "import random\n",
    "random.seed(42)\n",
    "instrument_wise_cash_sorted = sorted(random.sample(instrument_wise_cash_sorted, 500), key=lambda x: x[\"flow\"], reverse=True)\n"
   ]
  },
  {
   "cell_type": "code",
   "execution_count": null,
   "metadata": {},
   "outputs": [],
   "source": [
    "small_dict = {}\n",
    "for instrument in instrument_wise_cash_sorted:\n",
    "    small_dict[instrument[\"instrument\"]] = out_dict[instrument[\"instrument\"]]\n",
    "\n",
    "import pickle\n",
    "with open(\"/Users/akashanand/repo/maestro/data/data_small.pickle\", \"wb\") as f:\n",
    "    pickle.dump(small_dict, f)"
   ]
  },
  {
   "cell_type": "code",
   "execution_count": null,
   "metadata": {},
   "outputs": [],
   "source": [
    "# Plot the cash flow in log scale\n",
    "plt.plot([math.log(x[\"flow\"]) for x in instrument_wise_cash_sorted if x[\"flow\"] > 0])"
   ]
  },
  {
   "cell_type": "code",
   "execution_count": null,
   "metadata": {},
   "outputs": [],
   "source": [
    "import pandas as pd\n",
    "pd_rel = pd.DataFrame(rel)\n",
    "pd_rel"
   ]
  },
  {
   "cell_type": "code",
   "execution_count": null,
   "metadata": {},
   "outputs": [],
   "source": [
    "pd_nse[\"exchange\"].value_counts()"
   ]
  },
  {
   "cell_type": "code",
   "execution_count": null,
   "metadata": {},
   "outputs": [],
   "source": [
    "pd_nse[\"segment\"].value_counts()"
   ]
  },
  {
   "cell_type": "code",
   "execution_count": null,
   "metadata": {},
   "outputs": [],
   "source": [
    "pd_nse[\"instrument_type\"].value_counts()"
   ]
  },
  {
   "cell_type": "code",
   "execution_count": null,
   "metadata": {},
   "outputs": [],
   "source": [
    "pd_nse.head()"
   ]
  },
  {
   "cell_type": "code",
   "execution_count": null,
   "metadata": {},
   "outputs": [],
   "source": []
  }
 ],
 "metadata": {
  "kernelspec": {
   "display_name": "Python 3 (ipykernel)",
   "language": "python",
   "name": "python3"
  },
  "language_info": {
   "codemirror_mode": {
    "name": "ipython",
    "version": 3
   },
   "file_extension": ".py",
   "mimetype": "text/x-python",
   "name": "python",
   "nbconvert_exporter": "python",
   "pygments_lexer": "ipython3",
   "version": "3.8.16"
  }
 },
 "nbformat": 4,
 "nbformat_minor": 2
}
