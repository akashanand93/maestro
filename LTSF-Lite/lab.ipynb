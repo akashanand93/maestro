{
 "cells": [
  {
   "cell_type": "code",
   "execution_count": 3,
   "id": "4088cac8",
   "metadata": {},
   "outputs": [],
   "source": [
    "import os\n",
    "import json\n",
    "import torch\n",
    "import argparse\n",
    "from expirement import ExpMain\n",
    "from dataloader import data_provider\n",
    "%load_ext autoreload\n",
    "%autoreload 2"
   ]
  },
  {
   "cell_type": "code",
   "execution_count": 4,
   "id": "e8a48d96",
   "metadata": {},
   "outputs": [],
   "source": [
    "with open(\"default_args.json\", \"r\") as f:\n",
    "    default_args = json.load(f)\n",
    "default_args[\"use_gpu\"] = True if torch.cuda.is_available() and default_args[\"use_gpu\"] else False\n",
    "\n",
    "\n",
    "if default_args[\"use_gpu\"] and default_args[\"use_multi_gpu\"]:\n",
    "    default_args[\"devices\"] = default_args[\"devices\"].replace(' ', '')\n",
    "    device_ids = default_args[\"devices\"].split(',')\n",
    "    default_args[\"device_ids\"] = [int(id_) for id_ in device_ids]\n",
    "    default_args[\"gpu\"] = default_args[\"device_ids\"][0]"
   ]
  },
  {
   "cell_type": "code",
   "execution_count": 8,
   "id": "12e01f17",
   "metadata": {},
   "outputs": [],
   "source": [
    "# Model specific args\n",
    "args = {\n",
    "   'is_training': 1,\n",
    "   'root_path': '/Users/shiva/Desktop/data_maestro',\n",
    "   'checkpoints': '/Users/shiva/Desktop/data_maestro/checkpoints/',\n",
    "   'data_path': 'transformed.csv',\n",
    "   'model_id': 'traffic_336_96',\n",
    "   'seq_len': 510,\n",
    "   'pred_len': 96,\n",
    "   'enc_in': 862,\n",
    "   'itr': 1,\n",
    "   'batch_size': 16,\n",
    "   'learning_rate': 0.05\n",
    "}\n",
    "\n",
    "# Change the default args\n",
    "for key, value in args.items():\n",
    "    default_args[key] = value\n",
    "\n",
    "args = argparse.Namespace(**default_args)"
   ]
  },
  {
   "cell_type": "code",
   "execution_count": 12,
   "id": "c4f7b512",
   "metadata": {},
   "outputs": [
    {
     "name": "stdout",
     "output_type": "stream",
     "text": [
      "Namespace(is_training=1, train_only=False, model_id='traffic_336_96', model='DLinear', data='custom', root_path='/Users/shiva/Desktop/data_maestro', data_path='transformed.csv', features='M', freq='h', checkpoints='/Users/shiva/Desktop/data_maestro/checkpoints/', seq_len=336, label_len=48, pred_len=96, individual=False, embed_type=0, enc_in=862, dec_in=7, c_out=7, d_model=512, n_heads=8, e_layers=2, d_layers=1, d_ff=2048, moving_avg=25, factor=1, distil=True, dropout=0.05, embed='timeF', activation='gelu', output_attention=False, do_predict=False, num_workers=10, itr=1, train_epochs=10, batch_size=16, patience=3, learning_rate=0.05, des='Exp', loss='mse', lradj='type1', use_amp=False, use_gpu=False, gpu=0, use_multi_gpu=False, devices='0,1,2,3', test_flop=False)\n"
     ]
    }
   ],
   "source": [
    "print(args)"
   ]
  },
  {
   "cell_type": "code",
   "execution_count": 6,
   "id": "1b74abcf",
   "metadata": {},
   "outputs": [
    {
     "name": "stdout",
     "output_type": "stream",
     "text": [
      "Use CPU\n"
     ]
    }
   ],
   "source": [
    "exp = ExpMain(args)"
   ]
  },
  {
   "cell_type": "code",
   "execution_count": 7,
   "id": "010059aa",
   "metadata": {
    "scrolled": true
   },
   "outputs": [
    {
     "name": "stdout",
     "output_type": "stream",
     "text": [
      "train 8231\n",
      "val 1143\n",
      "test 2380\n"
     ]
    },
    {
     "name": "stderr",
     "output_type": "stream",
     "text": [
      "100%|████████████████████████████████████████████████████████████████████████████████████████████████████████████| 514/514 [01:24<00:00,  6.10it/s]"
     ]
    },
    {
     "name": "stdout",
     "output_type": "stream",
     "text": [
      "Epoch: 1 cost time: 84.25926399230957\n"
     ]
    },
    {
     "name": "stderr",
     "output_type": "stream",
     "text": [
      "\n"
     ]
    },
    {
     "name": "stdout",
     "output_type": "stream",
     "text": [
      "Epoch: 1, Steps: 514 | Train Loss: 1.6756125 Vali Loss: 0.1506637 Test Loss: 0.1818876\n",
      "Validation loss decreased (inf --> 0.150664).  Saving model ...\n",
      "Updating learning rate to 0.05\n"
     ]
    },
    {
     "name": "stderr",
     "output_type": "stream",
     "text": [
      "100%|████████████████████████████████████████████████████████████████████████████████████████████████████████████| 514/514 [01:23<00:00,  6.19it/s]"
     ]
    },
    {
     "name": "stdout",
     "output_type": "stream",
     "text": [
      "Epoch: 2 cost time: 83.05843138694763\n"
     ]
    },
    {
     "name": "stderr",
     "output_type": "stream",
     "text": [
      "\n"
     ]
    },
    {
     "name": "stdout",
     "output_type": "stream",
     "text": [
      "Epoch: 2, Steps: 514 | Train Loss: 0.1034268 Vali Loss: 0.2740914 Test Loss: 0.3442529\n",
      "EarlyStopping counter: 1 out of 3\n",
      "Updating learning rate to 0.025\n"
     ]
    },
    {
     "name": "stderr",
     "output_type": "stream",
     "text": [
      "100%|████████████████████████████████████████████████████████████████████████████████████████████████████████████| 514/514 [01:26<00:00,  5.91it/s]"
     ]
    },
    {
     "name": "stdout",
     "output_type": "stream",
     "text": [
      "Epoch: 3 cost time: 86.91809678077698\n"
     ]
    },
    {
     "name": "stderr",
     "output_type": "stream",
     "text": [
      "\n"
     ]
    },
    {
     "name": "stdout",
     "output_type": "stream",
     "text": [
      "Epoch: 3, Steps: 514 | Train Loss: 0.0808986 Vali Loss: 0.1140077 Test Loss: 0.1160141\n",
      "Validation loss decreased (0.150664 --> 0.114008).  Saving model ...\n",
      "Updating learning rate to 0.0125\n"
     ]
    },
    {
     "name": "stderr",
     "output_type": "stream",
     "text": [
      "100%|████████████████████████████████████████████████████████████████████████████████████████████████████████████| 514/514 [01:22<00:00,  6.24it/s]"
     ]
    },
    {
     "name": "stdout",
     "output_type": "stream",
     "text": [
      "Epoch: 4 cost time: 82.3885428905487\n"
     ]
    },
    {
     "name": "stderr",
     "output_type": "stream",
     "text": [
      "\n"
     ]
    },
    {
     "name": "stdout",
     "output_type": "stream",
     "text": [
      "Epoch: 4, Steps: 514 | Train Loss: 0.0705281 Vali Loss: 0.0860819 Test Loss: 0.0771858\n",
      "Validation loss decreased (0.114008 --> 0.086082).  Saving model ...\n",
      "Updating learning rate to 0.00625\n"
     ]
    },
    {
     "name": "stderr",
     "output_type": "stream",
     "text": [
      "100%|████████████████████████████████████████████████████████████████████████████████████████████████████████████| 514/514 [01:20<00:00,  6.38it/s]"
     ]
    },
    {
     "name": "stdout",
     "output_type": "stream",
     "text": [
      "Epoch: 5 cost time: 80.51325726509094\n"
     ]
    },
    {
     "name": "stderr",
     "output_type": "stream",
     "text": [
      "\n"
     ]
    },
    {
     "name": "stdout",
     "output_type": "stream",
     "text": [
      "Epoch: 5, Steps: 514 | Train Loss: 0.0685387 Vali Loss: 0.0913001 Test Loss: 0.0870669\n",
      "EarlyStopping counter: 1 out of 3\n",
      "Updating learning rate to 0.003125\n"
     ]
    },
    {
     "name": "stderr",
     "output_type": "stream",
     "text": [
      "100%|████████████████████████████████████████████████████████████████████████████████████████████████████████████| 514/514 [01:22<00:00,  6.24it/s]"
     ]
    },
    {
     "name": "stdout",
     "output_type": "stream",
     "text": [
      "Epoch: 6 cost time: 82.33146286010742\n"
     ]
    },
    {
     "name": "stderr",
     "output_type": "stream",
     "text": [
      "\n"
     ]
    },
    {
     "name": "stdout",
     "output_type": "stream",
     "text": [
      "Epoch: 6, Steps: 514 | Train Loss: 0.0676083 Vali Loss: 0.0784061 Test Loss: 0.0612536\n",
      "Validation loss decreased (0.086082 --> 0.078406).  Saving model ...\n",
      "Updating learning rate to 0.0015625\n"
     ]
    },
    {
     "name": "stderr",
     "output_type": "stream",
     "text": [
      "100%|████████████████████████████████████████████████████████████████████████████████████████████████████████████| 514/514 [01:31<00:00,  5.62it/s]"
     ]
    },
    {
     "name": "stdout",
     "output_type": "stream",
     "text": [
      "Epoch: 7 cost time: 91.48615789413452\n"
     ]
    },
    {
     "name": "stderr",
     "output_type": "stream",
     "text": [
      "\n"
     ]
    },
    {
     "name": "stdout",
     "output_type": "stream",
     "text": [
      "Epoch: 7, Steps: 514 | Train Loss: 0.0670999 Vali Loss: 0.0788449 Test Loss: 0.0629078\n",
      "EarlyStopping counter: 1 out of 3\n",
      "Updating learning rate to 0.00078125\n"
     ]
    },
    {
     "name": "stderr",
     "output_type": "stream",
     "text": [
      "100%|████████████████████████████████████████████████████████████████████████████████████████████████████████████| 514/514 [01:17<00:00,  6.60it/s]"
     ]
    },
    {
     "name": "stdout",
     "output_type": "stream",
     "text": [
      "Epoch: 8 cost time: 77.89343428611755\n"
     ]
    },
    {
     "name": "stderr",
     "output_type": "stream",
     "text": [
      "\n"
     ]
    },
    {
     "name": "stdout",
     "output_type": "stream",
     "text": [
      "Epoch: 8, Steps: 514 | Train Loss: 0.0670118 Vali Loss: 0.0770037 Test Loss: 0.0608959\n",
      "Validation loss decreased (0.078406 --> 0.077004).  Saving model ...\n",
      "Updating learning rate to 0.000390625\n"
     ]
    },
    {
     "name": "stderr",
     "output_type": "stream",
     "text": [
      "100%|████████████████████████████████████████████████████████████████████████████████████████████████████████████| 514/514 [01:20<00:00,  6.40it/s]"
     ]
    },
    {
     "name": "stdout",
     "output_type": "stream",
     "text": [
      "Epoch: 9 cost time: 80.38553190231323\n"
     ]
    },
    {
     "name": "stderr",
     "output_type": "stream",
     "text": [
      "\n"
     ]
    },
    {
     "name": "stdout",
     "output_type": "stream",
     "text": [
      "Epoch: 9, Steps: 514 | Train Loss: 0.0667606 Vali Loss: 0.0750831 Test Loss: 0.0556505\n",
      "Validation loss decreased (0.077004 --> 0.075083).  Saving model ...\n",
      "Updating learning rate to 0.0001953125\n"
     ]
    },
    {
     "name": "stderr",
     "output_type": "stream",
     "text": [
      "100%|████████████████████████████████████████████████████████████████████████████████████████████████████████████| 514/514 [01:25<00:00,  6.00it/s]"
     ]
    },
    {
     "name": "stdout",
     "output_type": "stream",
     "text": [
      "Epoch: 10 cost time: 85.6486337184906\n"
     ]
    },
    {
     "name": "stderr",
     "output_type": "stream",
     "text": [
      "\n"
     ]
    },
    {
     "name": "stdout",
     "output_type": "stream",
     "text": [
      "Epoch: 10, Steps: 514 | Train Loss: 0.0665977 Vali Loss: 0.0758793 Test Loss: 0.0582007\n",
      "EarlyStopping counter: 1 out of 3\n",
      "Updating learning rate to 9.765625e-05\n"
     ]
    },
    {
     "data": {
      "text/plain": [
       "DLinear(\n",
       "  (decompsition): SeriesDecomp(\n",
       "    (moving_avg): MovingAvg(\n",
       "      (avg): AvgPool1d(kernel_size=(25,), stride=(1,), padding=(0,))\n",
       "    )\n",
       "  )\n",
       "  (Linear_Seasonal): Linear(in_features=336, out_features=96, bias=True)\n",
       "  (Linear_Trend): Linear(in_features=336, out_features=96, bias=True)\n",
       ")"
      ]
     },
     "execution_count": 7,
     "metadata": {},
     "output_type": "execute_result"
    }
   ],
   "source": [
    "exp.train('settings')"
   ]
  },
  {
   "cell_type": "code",
   "execution_count": null,
   "id": "f5a98514",
   "metadata": {},
   "outputs": [],
   "source": []
  }
 ],
 "metadata": {
  "kernelspec": {
   "display_name": "Python 3 (ipykernel)",
   "language": "python",
   "name": "python3"
  },
  "language_info": {
   "codemirror_mode": {
    "name": "ipython",
    "version": 3
   },
   "file_extension": ".py",
   "mimetype": "text/x-python",
   "name": "python",
   "nbconvert_exporter": "python",
   "pygments_lexer": "ipython3",
   "version": "3.9.6"
  }
 },
 "nbformat": 4,
 "nbformat_minor": 5
}
