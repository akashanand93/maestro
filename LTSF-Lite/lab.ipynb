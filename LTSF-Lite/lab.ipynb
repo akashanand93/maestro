{
 "cells": [
  {
   "cell_type": "code",
   "execution_count": 21,
   "id": "da4bf820",
   "metadata": {},
   "outputs": [
    {
     "name": "stdout",
     "output_type": "stream",
     "text": [
      "The autoreload extension is already loaded. To reload it, use:\n",
      "  %reload_ext autoreload\n"
     ]
    }
   ],
   "source": [
    "import os\n",
    "import json\n",
    "import torch\n",
    "import argparse\n",
    "from expirement import ExpMain\n",
    "from dataloader import data_provider\n",
    "%load_ext autoreload\n",
    "%autoreload 2"
   ]
  },
  {
   "cell_type": "code",
   "execution_count": 22,
   "id": "3d027abb",
   "metadata": {},
   "outputs": [],
   "source": [
    "with open(\"default_args.json\", \"r\") as f:\n",
    "    default_args = json.load(f)\n",
    "default_args[\"use_gpu\"] = True if torch.cuda.is_available() and default_args[\"use_gpu\"] else False\n",
    "\n",
    "\n",
    "if default_args[\"use_gpu\"] and default_args[\"use_multi_gpu\"]:\n",
    "    default_args[\"devices\"] = default_args[\"devices\"].replace(' ', '')\n",
    "    device_ids = default_args[\"devices\"].split(',')\n",
    "    default_args[\"device_ids\"] = [int(id_) for id_ in device_ids]\n",
    "    default_args[\"gpu\"] = default_args[\"device_ids\"][0]"
   ]
  },
  {
   "cell_type": "code",
   "execution_count": 23,
   "id": "5905ac77",
   "metadata": {},
   "outputs": [],
   "source": [
    "# Model specific args\n",
    "args = {\n",
    "   'is_training': 1,\n",
    "   'root_path': '/Users/shiva/Desktop/data_maestro',\n",
    "   'checkpoints': '/Users/shiva/Desktop/data_maestro/checkpoints/',\n",
    "   'data_path': 'transformed.csv',\n",
    "   'model_id': 'traffic_336_96',\n",
    "   'model': 'DLinear',\n",
    "   'data': 'custom',\n",
    "   'features': 'M',\n",
    "   'seq_len': 336,\n",
    "   'pred_len': 96,\n",
    "   'enc_in': 862,\n",
    "   'des': 'Exp',\n",
    "   'itr': 1,\n",
    "   'batch_size': 16,\n",
    "   'learning_rate': 0.05\n",
    "}\n",
    "\n",
    "# Change the default args\n",
    "for key, value in args.items():\n",
    "    default_args[key] = value\n",
    "\n",
    "args = argparse.Namespace(**default_args)"
   ]
  },
  {
   "cell_type": "code",
   "execution_count": 24,
   "id": "f92fbc12",
   "metadata": {
    "scrolled": true
   },
   "outputs": [
    {
     "name": "stdout",
     "output_type": "stream",
     "text": [
      "train 8231\n"
     ]
    }
   ],
   "source": [
    "data_set, data_loader = data_provider(args, \"train\")"
   ]
  },
  {
   "cell_type": "code",
   "execution_count": 14,
   "id": "5e2c4a8e",
   "metadata": {},
   "outputs": [
    {
     "name": "stdout",
     "output_type": "stream",
     "text": [
      "torch.Size([16, 336, 320]) torch.Size([16, 96, 320])\n"
     ]
    }
   ],
   "source": [
    "for idx, data in enumerate(data_loader):\n",
    "    print(data[0].shape, data[1].shape)\n",
    "    break"
   ]
  },
  {
   "cell_type": "code",
   "execution_count": 27,
   "id": "d05d315b",
   "metadata": {},
   "outputs": [
    {
     "name": "stdout",
     "output_type": "stream",
     "text": [
      "Use CPU\n"
     ]
    }
   ],
   "source": [
    "exp = ExpMain(args)"
   ]
  },
  {
   "cell_type": "code",
   "execution_count": null,
   "id": "99737b61",
   "metadata": {
    "scrolled": true
   },
   "outputs": [
    {
     "name": "stdout",
     "output_type": "stream",
     "text": [
      "train 8231\n",
      "val 1143\n",
      "test 2380\n"
     ]
    },
    {
     "name": "stderr",
     "output_type": "stream",
     "text": [
      " 99%|███████████████████████████████████████████████████████████████████████████████████████████████████████████▎| 511/514 [00:42<00:00, 36.91it/s]"
     ]
    }
   ],
   "source": [
    "exp.train('settings')"
   ]
  },
  {
   "cell_type": "code",
   "execution_count": null,
   "id": "2775f20b",
   "metadata": {},
   "outputs": [],
   "source": []
  }
 ],
 "metadata": {
  "kernelspec": {
   "display_name": "Python 3 (ipykernel)",
   "language": "python",
   "name": "python3"
  },
  "language_info": {
   "codemirror_mode": {
    "name": "ipython",
    "version": 3
   },
   "file_extension": ".py",
   "mimetype": "text/x-python",
   "name": "python",
   "nbconvert_exporter": "python",
   "pygments_lexer": "ipython3",
   "version": "3.9.6"
  }
 },
 "nbformat": 4,
 "nbformat_minor": 5
}
