{
 "cells": [
  {
   "cell_type": "code",
   "execution_count": 11,
   "id": "4088cac8",
   "metadata": {},
   "outputs": [
    {
     "name": "stdout",
     "output_type": "stream",
     "text": [
      "The autoreload extension is already loaded. To reload it, use:\n",
      "  %reload_ext autoreload\n"
     ]
    }
   ],
   "source": [
    "import os\n",
    "import json\n",
    "import torch\n",
    "import argparse\n",
    "from expirement import ExpMain\n",
    "from dataloader import data_provider\n",
    "from utills import read_default_args\n",
    "%load_ext autoreload\n",
    "%autoreload 2"
   ]
  },
  {
   "cell_type": "code",
   "execution_count": 15,
   "id": "e8a48d96",
   "metadata": {},
   "outputs": [],
   "source": [
    "default_args = read_default_args()"
   ]
  },
  {
   "cell_type": "code",
   "execution_count": 16,
   "id": "12e01f17",
   "metadata": {},
   "outputs": [],
   "source": [
    "args = {\n",
    "   'is_training': 1,\n",
    "   'root_path': '/Users/shiva/Desktop/data_maestro',\n",
    "   'checkpoints': '/Users/shiva/Desktop/data_maestro/checkpoints/',\n",
    "   'data_path': 'transformed.csv',\n",
    "   'model_id': 'traffic_336_96',\n",
    "   'seq_len': 510,\n",
    "   'pred_len': 96,\n",
    "   'enc_in': 862,\n",
    "   'itr': 1,\n",
    "   'batch_size': 16,\n",
    "   'learning_rate': 0.05\n",
    "}\n",
    "\n",
    "for key, value in args.items():\n",
    "    default_args[key] = value\n",
    "\n",
    "args = argparse.Namespace(**default_args)"
   ]
  },
  {
   "cell_type": "code",
   "execution_count": 19,
   "id": "1b74abcf",
   "metadata": {},
   "outputs": [
    {
     "name": "stdout",
     "output_type": "stream",
     "text": [
      "Use CPU\n"
     ]
    }
   ],
   "source": [
    "exp = ExpMain(args)\n",
    "setting = 'sl{}_pl{}_ch{}'.format(args.seq_len, args.pred_len, args.enc_in)"
   ]
  },
  {
   "cell_type": "code",
   "execution_count": 18,
   "id": "010059aa",
   "metadata": {
    "scrolled": true
   },
   "outputs": [
    {
     "name": "stdout",
     "output_type": "stream",
     "text": [
      "train 8057\n",
      "val 1143\n",
      "test 2380\n"
     ]
    },
    {
     "name": "stderr",
     "output_type": "stream",
     "text": [
      "100%|████████████████████████████████████████████████████████████████████████████████████████████████████████████| 503/503 [01:17<00:00,  6.46it/s]"
     ]
    },
    {
     "name": "stdout",
     "output_type": "stream",
     "text": [
      "Epoch: 1 cost time: 77.85715985298157\n"
     ]
    },
    {
     "name": "stderr",
     "output_type": "stream",
     "text": [
      "\n"
     ]
    },
    {
     "name": "stdout",
     "output_type": "stream",
     "text": [
      "Epoch: 1, Steps: 503 | Train Loss: 4.0333822 Vali Loss: 0.0878634 Test Loss: 0.0678814\n",
      "Validation loss decreased (inf --> 0.087863).  Saving model ...\n",
      "Updating learning rate to 0.05\n"
     ]
    },
    {
     "name": "stderr",
     "output_type": "stream",
     "text": [
      "100%|████████████████████████████████████████████████████████████████████████████████████████████████████████████| 503/503 [01:16<00:00,  6.57it/s]"
     ]
    },
    {
     "name": "stdout",
     "output_type": "stream",
     "text": [
      "Epoch: 2 cost time: 76.51615500450134\n"
     ]
    },
    {
     "name": "stderr",
     "output_type": "stream",
     "text": [
      "\n"
     ]
    },
    {
     "name": "stdout",
     "output_type": "stream",
     "text": [
      "Epoch: 2, Steps: 503 | Train Loss: 0.0945473 Vali Loss: 0.1662626 Test Loss: 0.1348753\n",
      "EarlyStopping counter: 1 out of 3\n",
      "Updating learning rate to 0.025\n"
     ]
    },
    {
     "name": "stderr",
     "output_type": "stream",
     "text": [
      "100%|████████████████████████████████████████████████████████████████████████████████████████████████████████████| 503/503 [01:19<00:00,  6.30it/s]"
     ]
    },
    {
     "name": "stdout",
     "output_type": "stream",
     "text": [
      "Epoch: 3 cost time: 79.91574621200562\n"
     ]
    },
    {
     "name": "stderr",
     "output_type": "stream",
     "text": [
      "\n"
     ]
    },
    {
     "name": "stdout",
     "output_type": "stream",
     "text": [
      "Epoch: 3, Steps: 503 | Train Loss: 0.0800706 Vali Loss: 0.0860855 Test Loss: 0.0658071\n",
      "Validation loss decreased (0.087863 --> 0.086085).  Saving model ...\n",
      "Updating learning rate to 0.0125\n"
     ]
    },
    {
     "name": "stderr",
     "output_type": "stream",
     "text": [
      "100%|████████████████████████████████████████████████████████████████████████████████████████████████████████████| 503/503 [01:21<00:00,  6.17it/s]"
     ]
    },
    {
     "name": "stdout",
     "output_type": "stream",
     "text": [
      "Epoch: 4 cost time: 81.49688863754272\n"
     ]
    },
    {
     "name": "stderr",
     "output_type": "stream",
     "text": [
      "\n"
     ]
    },
    {
     "name": "stdout",
     "output_type": "stream",
     "text": [
      "Epoch: 4, Steps: 503 | Train Loss: 0.0710242 Vali Loss: 0.0800247 Test Loss: 0.0587438\n",
      "Validation loss decreased (0.086085 --> 0.080025).  Saving model ...\n",
      "Updating learning rate to 0.00625\n"
     ]
    },
    {
     "name": "stderr",
     "output_type": "stream",
     "text": [
      "100%|████████████████████████████████████████████████████████████████████████████████████████████████████████████| 503/503 [01:17<00:00,  6.48it/s]"
     ]
    },
    {
     "name": "stdout",
     "output_type": "stream",
     "text": [
      "Epoch: 5 cost time: 77.60107016563416\n"
     ]
    },
    {
     "name": "stderr",
     "output_type": "stream",
     "text": [
      "\n"
     ]
    },
    {
     "name": "stdout",
     "output_type": "stream",
     "text": [
      "Epoch: 5, Steps: 503 | Train Loss: 0.0691440 Vali Loss: 0.0787124 Test Loss: 0.0576545\n",
      "Validation loss decreased (0.080025 --> 0.078712).  Saving model ...\n",
      "Updating learning rate to 0.003125\n"
     ]
    },
    {
     "name": "stderr",
     "output_type": "stream",
     "text": [
      "100%|████████████████████████████████████████████████████████████████████████████████████████████████████████████| 503/503 [01:39<00:00,  5.07it/s]"
     ]
    },
    {
     "name": "stdout",
     "output_type": "stream",
     "text": [
      "Epoch: 6 cost time: 99.13358616828918\n"
     ]
    },
    {
     "name": "stderr",
     "output_type": "stream",
     "text": [
      "\n"
     ]
    },
    {
     "name": "stdout",
     "output_type": "stream",
     "text": [
      "Epoch: 6, Steps: 503 | Train Loss: 0.0678520 Vali Loss: 0.0806195 Test Loss: 0.0667320\n",
      "EarlyStopping counter: 1 out of 3\n",
      "Updating learning rate to 0.0015625\n"
     ]
    },
    {
     "name": "stderr",
     "output_type": "stream",
     "text": [
      "100%|████████████████████████████████████████████████████████████████████████████████████████████████████████████| 503/503 [01:32<00:00,  5.41it/s]"
     ]
    },
    {
     "name": "stdout",
     "output_type": "stream",
     "text": [
      "Epoch: 7 cost time: 92.95963978767395\n"
     ]
    },
    {
     "name": "stderr",
     "output_type": "stream",
     "text": [
      "\n"
     ]
    },
    {
     "name": "stdout",
     "output_type": "stream",
     "text": [
      "Epoch: 7, Steps: 503 | Train Loss: 0.0674310 Vali Loss: 0.0847971 Test Loss: 0.0760941\n",
      "EarlyStopping counter: 2 out of 3\n",
      "Updating learning rate to 0.00078125\n"
     ]
    },
    {
     "name": "stderr",
     "output_type": "stream",
     "text": [
      "100%|████████████████████████████████████████████████████████████████████████████████████████████████████████████| 503/503 [01:21<00:00,  6.17it/s]"
     ]
    },
    {
     "name": "stdout",
     "output_type": "stream",
     "text": [
      "Epoch: 8 cost time: 81.59211206436157\n"
     ]
    },
    {
     "name": "stderr",
     "output_type": "stream",
     "text": [
      "\n"
     ]
    },
    {
     "name": "stdout",
     "output_type": "stream",
     "text": [
      "Epoch: 8, Steps: 503 | Train Loss: 0.0670700 Vali Loss: 0.0799546 Test Loss: 0.0665746\n",
      "EarlyStopping counter: 3 out of 3\n",
      "Early stopping\n"
     ]
    },
    {
     "data": {
      "text/plain": [
       "DLinear(\n",
       "  (decompsition): SeriesDecomp(\n",
       "    (moving_avg): MovingAvg(\n",
       "      (avg): AvgPool1d(kernel_size=(25,), stride=(1,), padding=(0,))\n",
       "    )\n",
       "  )\n",
       "  (Linear_Seasonal): Linear(in_features=510, out_features=96, bias=True)\n",
       "  (Linear_Trend): Linear(in_features=510, out_features=96, bias=True)\n",
       ")"
      ]
     },
     "execution_count": 18,
     "metadata": {},
     "output_type": "execute_result"
    }
   ],
   "source": [
    "exp.train(setting)"
   ]
  },
  {
   "cell_type": "code",
   "execution_count": null,
   "id": "f5a98514",
   "metadata": {},
   "outputs": [],
   "source": []
  }
 ],
 "metadata": {
  "kernelspec": {
   "display_name": "Python 3 (ipykernel)",
   "language": "python",
   "name": "python3"
  },
  "language_info": {
   "codemirror_mode": {
    "name": "ipython",
    "version": 3
   },
   "file_extension": ".py",
   "mimetype": "text/x-python",
   "name": "python",
   "nbconvert_exporter": "python",
   "pygments_lexer": "ipython3",
   "version": "3.9.6"
  }
 },
 "nbformat": 4,
 "nbformat_minor": 5
}
