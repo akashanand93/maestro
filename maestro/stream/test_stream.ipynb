{
 "cells": [
  {
   "cell_type": "code",
   "execution_count": 1,
   "outputs": [],
   "source": [
    "import json\n",
    "from kiteconnect import KiteConnect"
   ],
   "metadata": {
    "collapsed": false,
    "pycharm": {
     "name": "#%%\n"
    }
   }
  },
  {
   "cell_type": "code",
   "execution_count": 2,
   "outputs": [],
   "source": [
    "# open the stream (e.g. a file or network socket)\n",
    "with open('/Users/akashanand/repo/maestro/data/instruments.json') as f:\n",
    "    instruments = json.load(f)"
   ],
   "metadata": {
    "collapsed": false,
    "pycharm": {
     "name": "#%%\n"
    }
   }
  },
  {
   "cell_type": "code",
   "execution_count": 3,
   "outputs": [
    {
     "name": "stdout",
     "output_type": "stream",
     "text": [
      "https://kite.zerodha.com/connect/login?api_key=9kxpk63gv7k76agn&v=3\n"
     ]
    }
   ],
   "source": [
    "api_key = '9kxpk63gv7k76agn'\n",
    "api_secret = 'zkgtjepzhmwrmpd9rmhgecoeuntxfk54'\n",
    "file_name = \"data/user_data.json\"\n",
    "kite = KiteConnect(api_key=api_key)\n",
    "# Show the login url\n",
    "print(kite.login_url())\n",
    "# Goto the above url and login with your credentials\n",
    "# On the redirect page, get your request_token"
   ],
   "metadata": {
    "collapsed": false,
    "pycharm": {
     "name": "#%%\n"
    }
   }
  },
  {
   "cell_type": "code",
   "execution_count": 4,
   "outputs": [],
   "source": [
    "key_from_redirect = \"GgdKX7cH4stNCm8xbUaFOH1N91pzs0MY\"\n",
    "# request access token\n",
    "data = kite.generate_session(key_from_redirect, api_secret=api_secret)\n",
    "access_token = data[\"access_token\"]"
   ],
   "metadata": {
    "collapsed": false,
    "pycharm": {
     "name": "#%%\n"
    }
   }
  },
  {
   "cell_type": "code",
   "execution_count": 5,
   "outputs": [],
   "source": [
    "import logging\n",
    "from kiteconnect import KiteTicker\n",
    "\n",
    "logging.basicConfig(level=logging.INFO)\n",
    "\n",
    "# Initialise\n",
    "kws = KiteTicker(api_key, access_token)\n",
    "\n",
    "def on_ticks(ws, ticks):  # noqa\n",
    "    # Callback to receive ticks.\n",
    "    logging.info(\"Ticks: {}\".format(ticks))\n",
    "\n",
    "def on_connect(ws, response):  # noqa\n",
    "    # Callback on successful connect.\n",
    "    # Subscribe to a list of instrument_tokens (RELIANCE and ACC here).\n",
    "    ws.subscribe([738561, 5633])\n",
    "\n",
    "    # Set RELIANCE to tick in `full` mode.\n",
    "    ws.set_mode(ws.MODE_FULL, [738561])\n",
    "\n",
    "def on_order_update(ws, data):\n",
    "    logging.debug(\"Order update : {}\".format(data))\n",
    "\n",
    "# Assign the callbacks.\n",
    "kws.on_ticks = on_ticks\n",
    "kws.on_connect = on_connect\n",
    "kws.on_order_update = on_order_update\n"
   ],
   "metadata": {
    "collapsed": false,
    "pycharm": {
     "name": "#%%\n"
    }
   }
  },
  {
   "cell_type": "code",
   "execution_count": 6,
   "outputs": [
    {
     "name": "stderr",
     "output_type": "stream",
     "text": [
      "INFO:root:Ticks: [{'tradable': True, 'mode': 'quote', 'instrument_token': 5633, 'last_price': 1774.55, 'last_traded_quantity': 5, 'average_traded_price': 1773.55, 'volume_traded': 671077, 'total_buy_quantity': 86759, 'total_sell_quantity': 81303, 'ohlc': {'open': 1768.95, 'high': 1800.0, 'low': 1733.1, 'close': 1769.45}, 'change': 0.2882251547090853}, {'tradable': True, 'mode': 'full', 'instrument_token': 738561, 'last_price': 2336.65, 'last_traded_quantity': 10, 'average_traded_price': 2337.4, 'volume_traded': 1771740, 'total_buy_quantity': 280959, 'total_sell_quantity': 334355, 'ohlc': {'open': 2337.0, 'high': 2351.65, 'low': 2328.05, 'close': 2343.9}, 'change': -0.3093135372669482, 'last_trade_time': datetime.datetime(2023, 3, 2, 11, 9, 24), 'oi': 0, 'oi_day_high': 0, 'oi_day_low': 0, 'exchange_timestamp': datetime.datetime(2023, 3, 2, 11, 9, 25), 'depth': {'buy': [{'quantity': 136, 'price': 2336.5, 'orders': 2}, {'quantity': 51, 'price': 2336.35, 'orders': 2}, {'quantity': 42, 'price': 2336.3, 'orders': 3}, {'quantity': 52, 'price': 2336.2, 'orders': 2}, {'quantity': 2, 'price': 2336.15, 'orders': 1}], 'sell': [{'quantity': 9, 'price': 2336.55, 'orders': 3}, {'quantity': 62, 'price': 2336.6, 'orders': 3}, {'quantity': 22, 'price': 2336.65, 'orders': 2}, {'quantity': 50, 'price': 2337.0, 'orders': 1}, {'quantity': 29, 'price': 2337.05, 'orders': 1}]}}]\n",
      "INFO:root:Ticks: [{'tradable': True, 'mode': 'quote', 'instrument_token': 5633, 'last_price': 1775.5, 'last_traded_quantity': 127, 'average_traded_price': 1773.55, 'volume_traded': 671077, 'total_buy_quantity': 86759, 'total_sell_quantity': 81303, 'ohlc': {'open': 1768.95, 'high': 1800.0, 'low': 1733.1, 'close': 1769.45}, 'change': 0.3419141541156831}, {'tradable': True, 'mode': 'full', 'instrument_token': 738561, 'last_price': 2336.5, 'last_traded_quantity': 9, 'average_traded_price': 2337.4, 'volume_traded': 1772132, 'total_buy_quantity': 280947, 'total_sell_quantity': 334250, 'ohlc': {'open': 2337.0, 'high': 2351.65, 'low': 2328.05, 'close': 2343.9}, 'change': -0.31571312769316484, 'last_trade_time': datetime.datetime(2023, 3, 2, 11, 9, 25), 'oi': 0, 'oi_day_high': 0, 'oi_day_low': 0, 'exchange_timestamp': datetime.datetime(2023, 3, 2, 11, 9, 26), 'depth': {'buy': [{'quantity': 128, 'price': 2336.5, 'orders': 3}, {'quantity': 51, 'price': 2336.35, 'orders': 2}, {'quantity': 42, 'price': 2336.3, 'orders': 3}, {'quantity': 2, 'price': 2336.25, 'orders': 1}, {'quantity': 22, 'price': 2336.2, 'orders': 1}], 'sell': [{'quantity': 21, 'price': 2336.95, 'orders': 1}, {'quantity': 52, 'price': 2337.0, 'orders': 2}, {'quantity': 29, 'price': 2337.05, 'orders': 1}, {'quantity': 52, 'price': 2337.1, 'orders': 2}, {'quantity': 71, 'price': 2337.2, 'orders': 2}]}}]\n",
      "INFO:root:Ticks: [{'tradable': True, 'mode': 'full', 'instrument_token': 738561, 'last_price': 2336.55, 'last_traded_quantity': 7, 'average_traded_price': 2337.4, 'volume_traded': 1772132, 'total_buy_quantity': 280947, 'total_sell_quantity': 334250, 'ohlc': {'open': 2337.0, 'high': 2351.65, 'low': 2328.05, 'close': 2343.9}, 'change': -0.3135799308844195, 'last_trade_time': datetime.datetime(2023, 3, 2, 11, 9, 25), 'oi': 0, 'oi_day_high': 0, 'oi_day_low': 0, 'exchange_timestamp': datetime.datetime(2023, 3, 2, 11, 9, 27), 'depth': {'buy': [{'quantity': 128, 'price': 2336.5, 'orders': 3}, {'quantity': 51, 'price': 2336.35, 'orders': 2}, {'quantity': 42, 'price': 2336.3, 'orders': 3}, {'quantity': 2, 'price': 2336.25, 'orders': 1}, {'quantity': 22, 'price': 2336.2, 'orders': 1}], 'sell': [{'quantity': 21, 'price': 2336.95, 'orders': 1}, {'quantity': 52, 'price': 2337.0, 'orders': 2}, {'quantity': 29, 'price': 2337.05, 'orders': 1}, {'quantity': 52, 'price': 2337.1, 'orders': 2}, {'quantity': 71, 'price': 2337.2, 'orders': 2}]}}, {'tradable': True, 'mode': 'quote', 'instrument_token': 5633, 'last_price': 1774.85, 'last_traded_quantity': 1, 'average_traded_price': 1773.55, 'volume_traded': 671386, 'total_buy_quantity': 87298, 'total_sell_quantity': 81004, 'ohlc': {'open': 1768.95, 'high': 1800.0, 'low': 1733.1, 'close': 1769.45}, 'change': 0.3051795755743233}]\n",
      "INFO:root:Ticks: [{'tradable': True, 'mode': 'full', 'instrument_token': 738561, 'last_price': 2336.55, 'last_traded_quantity': 7, 'average_traded_price': 2337.4, 'volume_traded': 1772140, 'total_buy_quantity': 280945, 'total_sell_quantity': 334240, 'ohlc': {'open': 2337.0, 'high': 2351.65, 'low': 2328.05, 'close': 2343.9}, 'change': -0.3135799308844195, 'last_trade_time': datetime.datetime(2023, 3, 2, 11, 9, 26), 'oi': 0, 'oi_day_high': 0, 'oi_day_low': 0, 'exchange_timestamp': datetime.datetime(2023, 3, 2, 11, 9, 27), 'depth': {'buy': [{'quantity': 128, 'price': 2336.5, 'orders': 3}, {'quantity': 1, 'price': 2336.45, 'orders': 1}, {'quantity': 51, 'price': 2336.35, 'orders': 2}, {'quantity': 42, 'price': 2336.3, 'orders': 3}, {'quantity': 2, 'price': 2336.25, 'orders': 1}], 'sell': [{'quantity': 20, 'price': 2336.9, 'orders': 1}, {'quantity': 27, 'price': 2336.95, 'orders': 2}, {'quantity': 52, 'price': 2337.0, 'orders': 2}, {'quantity': 29, 'price': 2337.05, 'orders': 1}, {'quantity': 52, 'price': 2337.1, 'orders': 2}]}}]\n",
      "INFO:root:Ticks: [{'tradable': True, 'mode': 'full', 'instrument_token': 738561, 'last_price': 2337.0, 'last_traded_quantity': 7, 'average_traded_price': 2337.4, 'volume_traded': 1772140, 'total_buy_quantity': 280945, 'total_sell_quantity': 334240, 'ohlc': {'open': 2337.0, 'high': 2351.65, 'low': 2328.05, 'close': 2343.9}, 'change': -0.2943811596057891, 'last_trade_time': datetime.datetime(2023, 3, 2, 11, 9, 26), 'oi': 0, 'oi_day_high': 0, 'oi_day_low': 0, 'exchange_timestamp': datetime.datetime(2023, 3, 2, 11, 9, 28), 'depth': {'buy': [{'quantity': 128, 'price': 2336.5, 'orders': 3}, {'quantity': 1, 'price': 2336.45, 'orders': 1}, {'quantity': 51, 'price': 2336.35, 'orders': 2}, {'quantity': 42, 'price': 2336.3, 'orders': 3}, {'quantity': 2, 'price': 2336.25, 'orders': 1}], 'sell': [{'quantity': 20, 'price': 2336.9, 'orders': 1}, {'quantity': 27, 'price': 2336.95, 'orders': 2}, {'quantity': 52, 'price': 2337.0, 'orders': 2}, {'quantity': 29, 'price': 2337.05, 'orders': 1}, {'quantity': 52, 'price': 2337.1, 'orders': 2}]}}, {'tradable': True, 'mode': 'quote', 'instrument_token': 5633, 'last_price': 1774.65, 'last_traded_quantity': 15, 'average_traded_price': 1773.55, 'volume_traded': 671416, 'total_buy_quantity': 87262, 'total_sell_quantity': 80564, 'ohlc': {'open': 1768.95, 'high': 1800.0, 'low': 1733.1, 'close': 1769.45}, 'change': 0.29387662833083983}]\n",
      "INFO:root:Ticks: [{'tradable': True, 'mode': 'full', 'instrument_token': 738561, 'last_price': 2337.0, 'last_traded_quantity': 7, 'average_traded_price': 2337.4, 'volume_traded': 1772194, 'total_buy_quantity': 280936, 'total_sell_quantity': 334139, 'ohlc': {'open': 2337.0, 'high': 2351.65, 'low': 2328.05, 'close': 2343.9}, 'change': -0.2943811596057891, 'last_trade_time': datetime.datetime(2023, 3, 2, 11, 9, 27), 'oi': 0, 'oi_day_high': 0, 'oi_day_low': 0, 'exchange_timestamp': datetime.datetime(2023, 3, 2, 11, 9, 28), 'depth': {'buy': [{'quantity': 128, 'price': 2336.5, 'orders': 3}, {'quantity': 1, 'price': 2336.45, 'orders': 1}, {'quantity': 51, 'price': 2336.35, 'orders': 2}, {'quantity': 42, 'price': 2336.3, 'orders': 3}, {'quantity': 22, 'price': 2336.2, 'orders': 1}], 'sell': [{'quantity': 4, 'price': 2336.8, 'orders': 2}, {'quantity': 20, 'price': 2336.85, 'orders': 1}, {'quantity': 43, 'price': 2337.0, 'orders': 1}, {'quantity': 5, 'price': 2337.1, 'orders': 1}, {'quantity': 71, 'price': 2337.2, 'orders': 2}]}}]\n",
      "INFO:root:Ticks: [{'tradable': True, 'mode': 'quote', 'instrument_token': 5633, 'last_price': 1774.8, 'last_traded_quantity': 5, 'average_traded_price': 1773.55, 'volume_traded': 671421, 'total_buy_quantity': 87102, 'total_sell_quantity': 81492, 'ohlc': {'open': 1768.95, 'high': 1800.0, 'low': 1733.1, 'close': 1769.45}, 'change': 0.3023538387634524}]\n",
      "INFO:root:Ticks: [{'tradable': True, 'mode': 'quote', 'instrument_token': 5633, 'last_price': 1774.8, 'last_traded_quantity': 5, 'average_traded_price': 1773.55, 'volume_traded': 671421, 'total_buy_quantity': 87255, 'total_sell_quantity': 81429, 'ohlc': {'open': 1768.95, 'high': 1800.0, 'low': 1733.1, 'close': 1769.45}, 'change': 0.3023538387634524}, {'tradable': True, 'mode': 'full', 'instrument_token': 738561, 'last_price': 2336.8, 'last_traded_quantity': 1, 'average_traded_price': 2337.4, 'volume_traded': 1772194, 'total_buy_quantity': 280968, 'total_sell_quantity': 334159, 'ohlc': {'open': 2337.0, 'high': 2351.65, 'low': 2328.05, 'close': 2343.9}, 'change': -0.30291394684073164, 'last_trade_time': datetime.datetime(2023, 3, 2, 11, 9, 27), 'oi': 0, 'oi_day_high': 0, 'oi_day_low': 0, 'exchange_timestamp': datetime.datetime(2023, 3, 2, 11, 9, 30), 'depth': {'buy': [{'quantity': 128, 'price': 2336.5, 'orders': 3}, {'quantity': 1, 'price': 2336.45, 'orders': 1}, {'quantity': 51, 'price': 2336.35, 'orders': 2}, {'quantity': 32, 'price': 2336.3, 'orders': 2}, {'quantity': 2, 'price': 2336.25, 'orders': 1}], 'sell': [{'quantity': 24, 'price': 2336.8, 'orders': 3}, {'quantity': 20, 'price': 2336.85, 'orders': 1}, {'quantity': 43, 'price': 2337.0, 'orders': 1}, {'quantity': 5, 'price': 2337.1, 'orders': 1}, {'quantity': 71, 'price': 2337.2, 'orders': 2}]}}]\n",
      "INFO:root:Ticks: [{'tradable': True, 'mode': 'quote', 'instrument_token': 5633, 'last_price': 1775.5, 'last_traded_quantity': 2, 'average_traded_price': 1773.55, 'volume_traded': 671437, 'total_buy_quantity': 87217, 'total_sell_quantity': 81254, 'ohlc': {'open': 1768.95, 'high': 1800.0, 'low': 1733.1, 'close': 1769.45}, 'change': 0.3419141541156831}, {'tradable': True, 'mode': 'full', 'instrument_token': 738561, 'last_price': 2336.5, 'last_traded_quantity': 6, 'average_traded_price': 2337.4, 'volume_traded': 1772199, 'total_buy_quantity': 280976, 'total_sell_quantity': 334201, 'ohlc': {'open': 2337.0, 'high': 2351.65, 'low': 2328.05, 'close': 2343.9}, 'change': -0.31571312769316484, 'last_trade_time': datetime.datetime(2023, 3, 2, 11, 9, 29), 'oi': 0, 'oi_day_high': 0, 'oi_day_low': 0, 'exchange_timestamp': datetime.datetime(2023, 3, 2, 11, 9, 31), 'depth': {'buy': [{'quantity': 1, 'price': 2336.65, 'orders': 1}, {'quantity': 135, 'price': 2336.5, 'orders': 5}, {'quantity': 1, 'price': 2336.45, 'orders': 1}, {'quantity': 2, 'price': 2336.4, 'orders': 1}, {'quantity': 51, 'price': 2336.35, 'orders': 2}], 'sell': [{'quantity': 24, 'price': 2336.8, 'orders': 4}, {'quantity': 20, 'price': 2336.85, 'orders': 1}, {'quantity': 43, 'price': 2337.0, 'orders': 1}, {'quantity': 5, 'price': 2337.1, 'orders': 1}, {'quantity': 71, 'price': 2337.2, 'orders': 2}]}}]\n",
      "INFO:root:Ticks: [{'tradable': True, 'mode': 'full', 'instrument_token': 738561, 'last_price': 2336.75, 'last_traded_quantity': 1, 'average_traded_price': 2337.4, 'volume_traded': 1772206, 'total_buy_quantity': 280969, 'total_sell_quantity': 334217, 'ohlc': {'open': 2337.0, 'high': 2351.65, 'low': 2328.05, 'close': 2343.9}, 'change': -0.305047143649477, 'last_trade_time': datetime.datetime(2023, 3, 2, 11, 9, 30), 'oi': 0, 'oi_day_high': 0, 'oi_day_low': 0, 'exchange_timestamp': datetime.datetime(2023, 3, 2, 11, 9, 32), 'depth': {'buy': [{'quantity': 4, 'price': 2336.55, 'orders': 1}, {'quantity': 126, 'price': 2336.5, 'orders': 5}, {'quantity': 1, 'price': 2336.45, 'orders': 1}, {'quantity': 51, 'price': 2336.35, 'orders': 2}, {'quantity': 32, 'price': 2336.3, 'orders': 2}], 'sell': [{'quantity': 20, 'price': 2336.75, 'orders': 1}, {'quantity': 26, 'price': 2336.8, 'orders': 5}, {'quantity': 20, 'price': 2336.85, 'orders': 1}, {'quantity': 43, 'price': 2337.0, 'orders': 1}, {'quantity': 5, 'price': 2337.1, 'orders': 1}]}}, {'tradable': True, 'mode': 'quote', 'instrument_token': 5633, 'last_price': 1775.5, 'last_traded_quantity': 2, 'average_traded_price': 1773.55, 'volume_traded': 671437, 'total_buy_quantity': 87323, 'total_sell_quantity': 81414, 'ohlc': {'open': 1768.95, 'high': 1800.0, 'low': 1733.1, 'close': 1769.45}, 'change': 0.3419141541156831}]\n",
      "INFO:root:Ticks: [{'tradable': True, 'mode': 'full', 'instrument_token': 738561, 'last_price': 2336.55, 'last_traded_quantity': 1, 'average_traded_price': 2337.4, 'volume_traded': 1772208, 'total_buy_quantity': 280967, 'total_sell_quantity': 334230, 'ohlc': {'open': 2337.0, 'high': 2351.65, 'low': 2328.05, 'close': 2343.9}, 'change': -0.3135799308844195, 'last_trade_time': datetime.datetime(2023, 3, 2, 11, 9, 32), 'oi': 0, 'oi_day_high': 0, 'oi_day_low': 0, 'exchange_timestamp': datetime.datetime(2023, 3, 2, 11, 9, 33), 'depth': {'buy': [{'quantity': 3, 'price': 2336.55, 'orders': 1}, {'quantity': 126, 'price': 2336.5, 'orders': 5}, {'quantity': 51, 'price': 2336.35, 'orders': 2}, {'quantity': 32, 'price': 2336.3, 'orders': 2}, {'quantity': 45, 'price': 2336.2, 'orders': 2}], 'sell': [{'quantity': 22, 'price': 2336.75, 'orders': 2}, {'quantity': 26, 'price': 2336.8, 'orders': 5}, {'quantity': 20, 'price': 2336.85, 'orders': 1}, {'quantity': 43, 'price': 2337.0, 'orders': 1}, {'quantity': 5, 'price': 2337.1, 'orders': 1}]}}, {'tradable': True, 'mode': 'quote', 'instrument_token': 5633, 'last_price': 1775.7, 'last_traded_quantity': 1, 'average_traded_price': 1773.55, 'volume_traded': 671437, 'total_buy_quantity': 87323, 'total_sell_quantity': 81414, 'ohlc': {'open': 1768.95, 'high': 1800.0, 'low': 1733.1, 'close': 1769.45}, 'change': 0.3532171013591794}]\n",
      "INFO:root:Ticks: [{'tradable': True, 'mode': 'quote', 'instrument_token': 5633, 'last_price': 1775.7, 'last_traded_quantity': 1, 'average_traded_price': 1773.55, 'volume_traded': 671462, 'total_buy_quantity': 87345, 'total_sell_quantity': 81322, 'ohlc': {'open': 1768.95, 'high': 1800.0, 'low': 1733.1, 'close': 1769.45}, 'change': 0.3532171013591794}]\n",
      "INFO:root:Ticks: [{'tradable': True, 'mode': 'full', 'instrument_token': 738561, 'last_price': 2336.8, 'last_traded_quantity': 3, 'average_traded_price': 2337.4, 'volume_traded': 1772263, 'total_buy_quantity': 281017, 'total_sell_quantity': 334443, 'ohlc': {'open': 2337.0, 'high': 2351.65, 'low': 2328.05, 'close': 2343.9}, 'change': -0.30291394684073164, 'last_trade_time': datetime.datetime(2023, 3, 2, 11, 9, 33), 'oi': 0, 'oi_day_high': 0, 'oi_day_low': 0, 'exchange_timestamp': datetime.datetime(2023, 3, 2, 11, 9, 34), 'depth': {'buy': [{'quantity': 50, 'price': 2336.75, 'orders': 1}, {'quantity': 5, 'price': 2336.55, 'orders': 2}, {'quantity': 126, 'price': 2336.5, 'orders': 5}, {'quantity': 51, 'price': 2336.35, 'orders': 2}, {'quantity': 32, 'price': 2336.3, 'orders': 2}], 'sell': [{'quantity': 20, 'price': 2336.8, 'orders': 2}, {'quantity': 11, 'price': 2336.85, 'orders': 1}, {'quantity': 43, 'price': 2337.0, 'orders': 1}, {'quantity': 5, 'price': 2337.1, 'orders': 1}, {'quantity': 50, 'price': 2337.2, 'orders': 1}]}}, {'tradable': True, 'mode': 'quote', 'instrument_token': 5633, 'last_price': 1775.7, 'last_traded_quantity': 9, 'average_traded_price': 1773.55, 'volume_traded': 671472, 'total_buy_quantity': 87335, 'total_sell_quantity': 81222, 'ohlc': {'open': 1768.95, 'high': 1800.0, 'low': 1733.1, 'close': 1769.45}, 'change': 0.3532171013591794}]\n",
      "INFO:root:Ticks: [{'tradable': True, 'mode': 'quote', 'instrument_token': 5633, 'last_price': 1775.7, 'last_traded_quantity': 9, 'average_traded_price': 1773.55, 'volume_traded': 671472, 'total_buy_quantity': 87335, 'total_sell_quantity': 81222, 'ohlc': {'open': 1768.95, 'high': 1800.0, 'low': 1733.1, 'close': 1769.45}, 'change': 0.3532171013591794}]\n",
      "INFO:root:Ticks: [{'tradable': True, 'mode': 'full', 'instrument_token': 738561, 'last_price': 2336.75, 'last_traded_quantity': 1, 'average_traded_price': 2337.4, 'volume_traded': 1772277, 'total_buy_quantity': 281028, 'total_sell_quantity': 334135, 'ohlc': {'open': 2337.0, 'high': 2351.65, 'low': 2328.05, 'close': 2343.9}, 'change': -0.305047143649477, 'last_trade_time': datetime.datetime(2023, 3, 2, 11, 9, 34), 'oi': 0, 'oi_day_high': 0, 'oi_day_low': 0, 'exchange_timestamp': datetime.datetime(2023, 3, 2, 11, 9, 35), 'depth': {'buy': [{'quantity': 41, 'price': 2336.75, 'orders': 1}, {'quantity': 3, 'price': 2336.55, 'orders': 1}, {'quantity': 126, 'price': 2336.5, 'orders': 5}, {'quantity': 2, 'price': 2336.4, 'orders': 1}, {'quantity': 51, 'price': 2336.35, 'orders': 2}], 'sell': [{'quantity': 18, 'price': 2336.8, 'orders': 3}, {'quantity': 11, 'price': 2336.85, 'orders': 1}, {'quantity': 43, 'price': 2337.0, 'orders': 1}, {'quantity': 5, 'price': 2337.1, 'orders': 1}, {'quantity': 50, 'price': 2337.2, 'orders': 1}]}}, {'tradable': True, 'mode': 'quote', 'instrument_token': 5633, 'last_price': 1775.7, 'last_traded_quantity': 9, 'average_traded_price': 1773.55, 'volume_traded': 671472, 'total_buy_quantity': 87328, 'total_sell_quantity': 81285, 'ohlc': {'open': 1768.95, 'high': 1800.0, 'low': 1733.1, 'close': 1769.45}, 'change': 0.3532171013591794}]\n",
      "INFO:root:Ticks: [{'tradable': True, 'mode': 'full', 'instrument_token': 738561, 'last_price': 2336.8, 'last_traded_quantity': 5, 'average_traded_price': 2337.4, 'volume_traded': 1772278, 'total_buy_quantity': 281001, 'total_sell_quantity': 334142, 'ohlc': {'open': 2337.0, 'high': 2351.65, 'low': 2328.05, 'close': 2343.9}, 'change': -0.30291394684073164, 'last_trade_time': datetime.datetime(2023, 3, 2, 11, 9, 35), 'oi': 0, 'oi_day_high': 0, 'oi_day_low': 0, 'exchange_timestamp': datetime.datetime(2023, 3, 2, 11, 9, 36), 'depth': {'buy': [{'quantity': 40, 'price': 2336.75, 'orders': 1}, {'quantity': 3, 'price': 2336.55, 'orders': 1}, {'quantity': 126, 'price': 2336.5, 'orders': 5}, {'quantity': 2, 'price': 2336.4, 'orders': 1}, {'quantity': 51, 'price': 2336.35, 'orders': 2}], 'sell': [{'quantity': 25, 'price': 2336.8, 'orders': 5}, {'quantity': 11, 'price': 2336.85, 'orders': 1}, {'quantity': 43, 'price': 2337.0, 'orders': 1}, {'quantity': 5, 'price': 2337.1, 'orders': 1}, {'quantity': 50, 'price': 2337.2, 'orders': 1}]}}]\n",
      "INFO:root:Ticks: [{'tradable': True, 'mode': 'quote', 'instrument_token': 5633, 'last_price': 1775.65, 'last_traded_quantity': 1, 'average_traded_price': 1773.55, 'volume_traded': 671473, 'total_buy_quantity': 87177, 'total_sell_quantity': 81333, 'ohlc': {'open': 1768.95, 'high': 1800.0, 'low': 1733.1, 'close': 1769.45}, 'change': 0.35039136454830855}]\n",
      "INFO:root:Ticks: [{'tradable': True, 'mode': 'full', 'instrument_token': 738561, 'last_price': 2336.8, 'last_traded_quantity': 5, 'average_traded_price': 2337.4, 'volume_traded': 1772283, 'total_buy_quantity': 281044, 'total_sell_quantity': 334308, 'ohlc': {'open': 2337.0, 'high': 2351.65, 'low': 2328.05, 'close': 2343.9}, 'change': -0.30291394684073164, 'last_trade_time': datetime.datetime(2023, 3, 2, 11, 9, 35), 'oi': 0, 'oi_day_high': 0, 'oi_day_low': 0, 'exchange_timestamp': datetime.datetime(2023, 3, 2, 11, 9, 36), 'depth': {'buy': [{'quantity': 40, 'price': 2336.75, 'orders': 1}, {'quantity': 26, 'price': 2336.6, 'orders': 1}, {'quantity': 47, 'price': 2336.55, 'orders': 3}, {'quantity': 126, 'price': 2336.5, 'orders': 5}, {'quantity': 2, 'price': 2336.4, 'orders': 1}], 'sell': [{'quantity': 5, 'price': 2336.8, 'orders': 1}, {'quantity': 193, 'price': 2337.0, 'orders': 2}, {'quantity': 5, 'price': 2337.1, 'orders': 1}, {'quantity': 50, 'price': 2337.2, 'orders': 1}, {'quantity': 104, 'price': 2337.3, 'orders': 2}]}}, {'tradable': True, 'mode': 'quote', 'instrument_token': 5633, 'last_price': 1775.65, 'last_traded_quantity': 1, 'average_traded_price': 1773.55, 'volume_traded': 671473, 'total_buy_quantity': 87163, 'total_sell_quantity': 81240, 'ohlc': {'open': 1768.95, 'high': 1800.0, 'low': 1733.1, 'close': 1769.45}, 'change': 0.35039136454830855}]\n",
      "INFO:root:Ticks: [{'tradable': True, 'mode': 'full', 'instrument_token': 738561, 'last_price': 2336.8, 'last_traded_quantity': 3, 'average_traded_price': 2337.4, 'volume_traded': 1772283, 'total_buy_quantity': 281044, 'total_sell_quantity': 334308, 'ohlc': {'open': 2337.0, 'high': 2351.65, 'low': 2328.05, 'close': 2343.9}, 'change': -0.30291394684073164, 'last_trade_time': datetime.datetime(2023, 3, 2, 11, 9, 35), 'oi': 0, 'oi_day_high': 0, 'oi_day_low': 0, 'exchange_timestamp': datetime.datetime(2023, 3, 2, 11, 9, 37), 'depth': {'buy': [{'quantity': 40, 'price': 2336.75, 'orders': 1}, {'quantity': 26, 'price': 2336.6, 'orders': 1}, {'quantity': 47, 'price': 2336.55, 'orders': 3}, {'quantity': 126, 'price': 2336.5, 'orders': 5}, {'quantity': 2, 'price': 2336.4, 'orders': 1}], 'sell': [{'quantity': 5, 'price': 2336.8, 'orders': 1}, {'quantity': 193, 'price': 2337.0, 'orders': 2}, {'quantity': 5, 'price': 2337.1, 'orders': 1}, {'quantity': 50, 'price': 2337.2, 'orders': 1}, {'quantity': 104, 'price': 2337.3, 'orders': 2}]}}]\n",
      "INFO:root:Ticks: [{'tradable': True, 'mode': 'quote', 'instrument_token': 5633, 'last_price': 1775.65, 'last_traded_quantity': 1, 'average_traded_price': 1773.55, 'volume_traded': 671473, 'total_buy_quantity': 86869, 'total_sell_quantity': 81334, 'ohlc': {'open': 1768.95, 'high': 1800.0, 'low': 1733.1, 'close': 1769.45}, 'change': 0.35039136454830855}, {'tradable': True, 'mode': 'full', 'instrument_token': 738561, 'last_price': 2336.75, 'last_traded_quantity': 2, 'average_traded_price': 2337.4, 'volume_traded': 1772289, 'total_buy_quantity': 281042, 'total_sell_quantity': 334304, 'ohlc': {'open': 2337.0, 'high': 2351.65, 'low': 2328.05, 'close': 2343.9}, 'change': -0.305047143649477, 'last_trade_time': datetime.datetime(2023, 3, 2, 11, 9, 37), 'oi': 0, 'oi_day_high': 0, 'oi_day_low': 0, 'exchange_timestamp': datetime.datetime(2023, 3, 2, 11, 9, 38), 'depth': {'buy': [{'quantity': 41, 'price': 2336.75, 'orders': 2}, {'quantity': 26, 'price': 2336.6, 'orders': 1}, {'quantity': 44, 'price': 2336.55, 'orders': 2}, {'quantity': 126, 'price': 2336.5, 'orders': 5}, {'quantity': 2, 'price': 2336.4, 'orders': 1}], 'sell': [{'quantity': 1, 'price': 2336.8, 'orders': 1}, {'quantity': 193, 'price': 2337.0, 'orders': 2}, {'quantity': 5, 'price': 2337.1, 'orders': 1}, {'quantity': 50, 'price': 2337.2, 'orders': 1}, {'quantity': 104, 'price': 2337.3, 'orders': 2}]}}]\n",
      "INFO:root:Ticks: [{'tradable': True, 'mode': 'full', 'instrument_token': 738561, 'last_price': 2336.75, 'last_traded_quantity': 3, 'average_traded_price': 2337.4, 'volume_traded': 1772300, 'total_buy_quantity': 281100, 'total_sell_quantity': 334306, 'ohlc': {'open': 2337.0, 'high': 2351.65, 'low': 2328.05, 'close': 2343.9}, 'change': -0.305047143649477, 'last_trade_time': datetime.datetime(2023, 3, 2, 11, 9, 39), 'oi': 0, 'oi_day_high': 0, 'oi_day_low': 0, 'exchange_timestamp': datetime.datetime(2023, 3, 2, 11, 9, 39), 'depth': {'buy': [{'quantity': 41, 'price': 2336.75, 'orders': 5}, {'quantity': 26, 'price': 2336.6, 'orders': 1}, {'quantity': 44, 'price': 2336.55, 'orders': 2}, {'quantity': 119, 'price': 2336.5, 'orders': 3}, {'quantity': 53, 'price': 2336.35, 'orders': 3}], 'sell': [{'quantity': 1, 'price': 2336.8, 'orders': 1}, {'quantity': 2, 'price': 2336.85, 'orders': 1}, {'quantity': 193, 'price': 2337.0, 'orders': 2}, {'quantity': 5, 'price': 2337.1, 'orders': 1}, {'quantity': 50, 'price': 2337.2, 'orders': 1}]}}]\n",
      "ERROR:kiteconnect.ticker:Connection error: 1006 - connection was closed uncleanly (peer dropped the TCP connection without previous WebSocket closing handshake)\n",
      "ERROR:kiteconnect.ticker:Connection closed: 1006 - connection was closed uncleanly (peer dropped the TCP connection without previous WebSocket closing handshake)\n"
     ]
    }
   ],
   "source": [
    "# Infinite loop on the main thread. Nothing after this will run.\n",
    "# You have to use the pre-defined callbacks to manage subscriptions.\n",
    "kws.connect()"
   ],
   "metadata": {
    "collapsed": false,
    "pycharm": {
     "name": "#%%\n"
    }
   }
  },
  {
   "cell_type": "code",
   "execution_count": null,
   "outputs": [],
   "source": [],
   "metadata": {
    "collapsed": false,
    "pycharm": {
     "name": "#%%\n"
    }
   }
  }
 ],
 "metadata": {
  "kernelspec": {
   "display_name": "Python 3",
   "language": "python",
   "name": "python3"
  },
  "language_info": {
   "codemirror_mode": {
    "name": "ipython",
    "version": 2
   },
   "file_extension": ".py",
   "mimetype": "text/x-python",
   "name": "python",
   "nbconvert_exporter": "python",
   "pygments_lexer": "ipython2",
   "version": "2.7.6"
  }
 },
 "nbformat": 4,
 "nbformat_minor": 0
}